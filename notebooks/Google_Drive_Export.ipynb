{
  "cells": [
    {
      "cell_type": "code",
      "execution_count": null,
      "metadata": {
        "id": "jbl5pojWzAD0"
      },
      "outputs": [],
      "source": [
        "# Copyright 2023 Nils Knieling\n",
        "#\n",
        "# Licensed under the Apache License, Version 2.0 (the \"License\");\n",
        "# you may not use this file except in compliance with the License.\n",
        "# You may obtain a copy of the License at\n",
        "#\n",
        "#     https://www.apache.org/licenses/LICENSE-2.0\n",
        "#\n",
        "# Unless required by applicable law or agreed to in writing, software\n",
        "# distributed under the License is distributed on an \"AS IS\" BASIS,\n",
        "# WITHOUT WARRANTIES OR CONDITIONS OF ANY KIND, either express or implied.\n",
        "# See the License for the specific language governing permissions and\n",
        "# limitations under the License."
      ]
    },
    {
      "cell_type": "markdown",
      "metadata": {
        "id": "aVjTZHl4zKKi"
      },
      "source": [
        "# Google Drive Export\n",
        "\n",
        "[![Open in Colab](https://img.shields.io/badge/Open%20in%20Colab-%23F9AB00.svg?logo=googlecolab&logoColor=white)](https://colab.research.google.com/github/Cyclenerd/toolbox/blob/master/notebooks/Google_Drive_Export.ipynb)\n",
        "[![Open in Vertex AI Workbench](https://img.shields.io/badge/Open%20in%20Vertex%20AI%20Workbench-%234285F4.svg?logo=googlecloud&logoColor=white)](https://console.cloud.google.com/vertex-ai/workbench/deploy-notebook?download_url=https://raw.githubusercontent.com/Cyclenerd/toolbox/master/notebooks/Google_Drive_Export.ipynb)\n",
        "[![View on GitHub](https://img.shields.io/badge/View%20on%20GitHub-181717.svg?logo=github&logoColor=white)](https://github.com/Cyclenerd/toolbox/blob/master/notebooks/Google_Drive_Export.ipynb)\n",
        "\n",
        "The [Google Drive API](https://developers.google.com/drive/api/guides/manage-downloads) supports several types of download and export actions:\n",
        "\n",
        "* Download: Blob file content using the `files.get` method with the `alt=media` URL parameter.\n",
        "* Export: Google Workspace document content in a format that your app can handle, using `files.export`.\n",
        "\n",
        "![Screenshot](https://raw.githubusercontent.com/Cyclenerd/toolbox/master/notebooks/google-drive-export.png)"
      ]
    },
    {
      "cell_type": "markdown",
      "metadata": {
        "id": "ofbTwaIazX4Y"
      },
      "source": [
        "## Install required packages\n",
        "\n",
        ">⚠️ You may receive a warning to \"Restart Runtime\" after the packages are installed. Don't worry, the subsequent cells will help you restart the runtime."
      ]
    },
    {
      "cell_type": "code",
      "execution_count": null,
      "metadata": {
        "cellView": "form",
        "id": "_6ez8wqmzb5n"
      },
      "outputs": [],
      "source": [
        "#@markdown ### Install dependencies\n",
        "\n",
        "#@markdown * [Google Authentication Library](https://pypi.org/project/google-auth/)\n",
        "#@markdown * [Google API Client Library for Python](https://pypi.org/project/google-api-python-client/)\n",
        "\n",
        "!pip install google-auth==2.22.0\n",
        "!pip install google-api-python-client==2.97.0\n",
        "\n",
        "print(\"☑️ Done\")"
      ]
    },
    {
      "cell_type": "code",
      "execution_count": null,
      "metadata": {
        "cellView": "form",
        "id": "rIwYTMZg01UX"
      },
      "outputs": [],
      "source": [
        "#@markdown ### Restart\n",
        "\n",
        "# Automatically restart kernel after installs so that your environment\n",
        "# can access the new packages.\n",
        "import IPython\n",
        "\n",
        "app = IPython.Application.instance()\n",
        "app.kernel.do_shutdown(True)"
      ]
    },
    {
      "cell_type": "code",
      "execution_count": 1,
      "metadata": {
        "cellView": "form",
        "id": "rriTKU3R1PdS"
      },
      "outputs": [],
      "source": [
        "#@markdown ### (Colab only!) Authenticate your Google Cloud Account\n",
        "\n",
        "# Authenticate gcloud.\n",
        "from google.colab import auth\n",
        "auth.authenticate_user()\n",
        "\n",
        "print(\"☑️ OK\")"
      ]
    },
    {
      "cell_type": "code",
      "execution_count": 2,
      "metadata": {
        "cellView": "form",
        "id": "RWLXL6XV1fSJ"
      },
      "outputs": [],
      "source": [
        "#@markdown ### Import Python libraries\n",
        "\n",
        "from __future__ import print_function\n",
        "\n",
        "import io\n",
        "\n",
        "import google.auth\n",
        "from googleapiclient.discovery import build\n",
        "from googleapiclient.errors import HttpError\n",
        "from googleapiclient.http import MediaIoBaseDownload\n",
        "\n",
        "print(\"☑️ OK\")"
      ]
    },
    {
      "cell_type": "code",
      "execution_count": 3,
      "metadata": {
        "cellView": "form",
        "id": "cAOTTHDc3quh"
      },
      "outputs": [],
      "source": [
        "# @markdown ### Enable download blob file function\n",
        "\n",
        "def download_file(real_file_id):\n",
        "    \"\"\"Downloads a file\n",
        "    Args:\n",
        "        real_file_id: ID of the file to download\n",
        "    Returns : IO object with location.\n",
        "\n",
        "    Load pre-authorized user credentials from the environment.\n",
        "    TODO(developer) - See https://developers.google.com/identity\n",
        "    for guides on implementing OAuth2 for the application.\n",
        "    \"\"\"\n",
        "    creds, _ = google.auth.default()\n",
        "\n",
        "    try:\n",
        "        # create drive api client\n",
        "        service = build('drive', 'v3', credentials=creds)\n",
        "\n",
        "        file_id = real_file_id\n",
        "\n",
        "        # pylint: disable=maybe-no-member\n",
        "        request = service.files().get_media(fileId=file_id)\n",
        "        file = io.BytesIO()\n",
        "        downloader = MediaIoBaseDownload(file, request)\n",
        "        done = False\n",
        "        while done is False:\n",
        "            status, done = downloader.next_chunk()\n",
        "            print(F'Download {int(status.progress() * 100)}.')\n",
        "\n",
        "    except HttpError as error:\n",
        "        print(F'An error occurred: {error}')\n",
        "        file = None\n",
        "\n",
        "    return file.getvalue()\n",
        "\n",
        "print(\"☑️ OK\")"
      ]
    },
    {
      "cell_type": "code",
      "execution_count": null,
      "metadata": {
        "cellView": "form",
        "colab": {
          "base_uri": "https://localhost:8080/"
        },
        "id": "c0dCsrYy7lWU",
        "outputId": "ac51a838-eb37-41d9-c87e-e862b268c199"
      },
      "outputs": [],
      "source": [
        "# @markdown ### Enable export document function\n",
        "\n",
        "# @markdown Supported export MIME types:\n",
        "# @markdown <https://developers.google.com/drive/api/guides/ref-export-formats>\n",
        "\n",
        "def export_doc(real_file_id, mime_type):\n",
        "    \"\"\"Download a Document file.\n",
        "    Args:\n",
        "        real_file_id : file ID of any workspace document format file\n",
        "        mime_type : One of https://developers.google.com/drive/api/guides/ref-export-formats\n",
        "\n",
        "    Returns : IO object with location\n",
        "\n",
        "    Load pre-authorized user credentials from the environment.\n",
        "    TODO(developer) - See https://developers.google.com/identity\n",
        "    for guides on implementing OAuth2 for the application.\n",
        "    \"\"\"\n",
        "    creds, _ = google.auth.default()\n",
        "\n",
        "    try:\n",
        "        # create drive api client\n",
        "        service = build('drive', 'v3', credentials=creds)\n",
        "\n",
        "        file_id = real_file_id\n",
        "\n",
        "        # pylint: disable=maybe-no-member\n",
        "        request = service.files().export_media(fileId=file_id,\n",
        "                                               mimeType=mime_type)\n",
        "        file = io.BytesIO()\n",
        "        downloader = MediaIoBaseDownload(file, request)\n",
        "        done = False\n",
        "        while done is False:\n",
        "            status, done = downloader.next_chunk()\n",
        "            print(F'Download {int(status.progress() * 100)}.')\n",
        "\n",
        "    except HttpError as error:\n",
        "        print(F'An error occurred: {error}')\n",
        "        file = None\n",
        "\n",
        "    return file.getvalue()\n",
        "\n",
        "print(\"☑️ OK\")"
      ]
    },
    {
      "cell_type": "code",
      "execution_count": null,
      "metadata": {
        "cellView": "form",
        "id": "k3wesAAc--Gl"
      },
      "outputs": [],
      "source": [
        "# @markdown ### Enable write to local file function\n",
        "\n",
        "def write_to_file(file_name, binary_file_content):\n",
        "  # Open file for export in binary mode (wb)\n",
        "  file = open(file_name, \"wb\")\n",
        "  # Write to file\n",
        "  file.write(binary_file_content)\n",
        "  # Close file\n",
        "  file.close()\n",
        "\n",
        "print(\"☑️ OK\")"
      ]
    },
    {
      "cell_type": "markdown",
      "metadata": {
        "id": "bY6fS6umXsuE"
      },
      "source": [
        "## File"
      ]
    },
    {
      "cell_type": "code",
      "execution_count": null,
      "metadata": {
        "cellView": "form",
        "id": "pgk3D5fp3wvz"
      },
      "outputs": [],
      "source": [
        "# @markdown ### Enter file ID\n",
        "file_id = \"1eyxyqsMHDyCodWFzN_lvzPEf_E1amzY1ME-jS_UXHOI\"  # @param {type:\"string\"}\n",
        "\n",
        "# Quick input validations.\n",
        "assert file_id, \"⚠️ Please input a valid file ID\"\n",
        "\n",
        "print(f\"☑️ File ID: {file_id}\")\n"
      ]
    },
    {
      "cell_type": "markdown",
      "metadata": {
        "id": "Ii0owpIACzws"
      },
      "source": [
        "Note for me:\n",
        "\n",
        "* Workspace document:\n",
        "  ```\n",
        "  1eyxyqsMHDyCodWFzN_lvzPEf_E1amzY1ME-jS_UXHOI\n",
        "  ```\n",
        "* JPEG image:\n",
        "  ```\n",
        "  17Qo-E9AxFdgwlKTfx3ZwUmpCy2jTv47h\n",
        "  ```"
      ]
    },
    {
      "cell_type": "code",
      "execution_count": null,
      "metadata": {
        "cellView": "form",
        "id": "ZhTINj6z6ZgE"
      },
      "outputs": [],
      "source": [
        "# @markdown ### Download a blob file stored on Drive (no document)\n",
        "\n",
        "# @markdown Enter filename for export:\n",
        "file_name = \"export.jpg\"  # @param {type:\"string\"}\n",
        "\n",
        "# Quick input validations.\n",
        "assert file_name, \"⚠️ Please input a valid file name for blob export\"\n",
        "\n",
        "# Get blob\n",
        "content_export = download_file(file_id)\n",
        "write_to_file(file_name, content_export)\n",
        "\n",
        "print(\"☑️ Done\")"
      ]
    },
    {
      "cell_type": "code",
      "execution_count": null,
      "metadata": {
        "cellView": "form",
        "id": "FMa71dsT7xO5"
      },
      "outputs": [],
      "source": [
        "# @markdown ### Export a document stored on Drive\n",
        "\n",
        "# @markdown > Please note: Exported content is limited to 10 MB.\n",
        "\n",
        "# @markdown Enter filenames for export:\n",
        "file_pdf_name = \"export.pdf\"  # @param {type:\"string\"}\n",
        "file_word_name = \"export.docx\"  # @param {type:\"string\"}\n",
        "file_text_name = \"export.txt\"  # @param {type:\"string\"}\n",
        "\n",
        "# Quick input validations.\n",
        "assert file_pdf_name, \"⚠️ Please input a valid file name for PDF export\"\n",
        "assert file_word_name, \"⚠️ Please input a valid file name for Word export\"\n",
        "assert file_text_name, \"⚠️ Please input a valid file name for Plain Text export\"\n",
        "\n",
        "# Get PDF export\n",
        "content_export_pdf = export_doc(file_id, 'application/pdf')\n",
        "write_to_file(file_pdf_name, content_export_pdf)\n",
        "\n",
        "# Get Microsoft Word export\n",
        "content_export_word = export_doc(\n",
        "    file_id,\n",
        "    'application/vnd.openxmlformats-officedocument.wordprocessingml.document'\n",
        ")\n",
        "write_to_file(file_word_name, content_export_word)\n",
        "\n",
        "# Get plain text export\n",
        "content_export_text = export_doc(file_id, 'text/plain')\n",
        "write_to_file(file_text_name, content_export_text)\n",
        "\n",
        "print(\"☑️ Done\")"
      ]
    }
  ],
  "metadata": {
    "colab": {
      "provenance": []
    },
    "kernelspec": {
      "display_name": "Python 3",
      "name": "python3"
    },
    "language_info": {
      "name": "python"
    }
  },
  "nbformat": 4,
  "nbformat_minor": 0
}
