{
  "cells": [
    {
      "cell_type": "code",
      "execution_count": null,
      "metadata": {
        "id": "zEZyez0skHHh"
      },
      "outputs": [],
      "source": [
        "# Copyright 2023 Nils Knieling\n",
        "#\n",
        "# Licensed under the Apache License, Version 2.0 (the \"License\");\n",
        "# you may not use this file except in compliance with the License.\n",
        "# You may obtain a copy of the License at\n",
        "#\n",
        "#     https://www.apache.org/licenses/LICENSE-2.0\n",
        "#\n",
        "# Unless required by applicable law or agreed to in writing, software\n",
        "# distributed under the License is distributed on an \"AS IS\" BASIS,\n",
        "# WITHOUT WARRANTIES OR CONDITIONS OF ANY KIND, either express or implied.\n",
        "# See the License for the specific language governing permissions and\n",
        "# limitations under the License."
      ]
    },
    {
      "cell_type": "markdown",
      "metadata": {
        "id": "wzZv3J78QCS_"
      },
      "source": [
        "# Building AI-powered applications using LangChain, Google Vertex AI and Matching Engine\n",
        "\n",
        "[![Open in Colab](https://img.shields.io/badge/Open%20in%20Colab-%23F9AB00.svg?logo=googlecolab&logoColor=white)](https://colab.research.google.com/github/Cyclenerd/toolbox/blob/master/notebooks/LangChain_VertexAI_Matching_Engine.ipynb)\n",
        "[![Open in Vertex AI Workbench](https://img.shields.io/badge/Open%20in%20Vertex%20AI%20Workbench-%234285F4.svg?logo=googlecloud&logoColor=white)](https://console.cloud.google.com/vertex-ai/workbench/deploy-notebook?download_url=https://raw.githubusercontent.com/Cyclenerd/toolbox/master/notebooks/LangChain_VertexAI_Matching_Engine.ipynb)\n",
        "[![View on GitHub](https://img.shields.io/badge/View%20on%20GitHub-181717.svg?logo=github&logoColor=white)](https://github.com/Cyclenerd/toolbox/blob/master/notebooks/LangChain_VertexAI_Matching_Engine.ipynb)"
      ]
    },
    {
      "cell_type": "markdown",
      "metadata": {
        "id": "cZ9EgilGPrqb"
      },
      "source": [
        "## Install required packages\n",
        "\n",
        ">⚠️ You may receive a warning to \"Restart Runtime\" after the packages are installed. Don't worry, the subsequent cells will help you restart the runtime."
      ]
    },
    {
      "cell_type": "code",
      "execution_count": null,
      "metadata": {
        "cellView": "form",
        "id": "RGrwGPNUMfK_"
      },
      "outputs": [],
      "source": [
        "#@markdown ### Install dependencies\n",
        "\n",
        "!sudo apt install jq\n",
        "!pip install langchain==0.0.244\n",
        "!pip install -U google-cloud-aiplatform==1.28.1 \"shapely < 2.0.0\"\n",
        "!pip install google-cloud-storage==2.8.0\n",
        "!pip install unstructured==0.8.4\n",
        "\n",
        "print(\"☑️ Done\")"
      ]
    },
    {
      "cell_type": "code",
      "execution_count": null,
      "metadata": {
        "cellView": "form",
        "id": "thYKV63LOzel"
      },
      "outputs": [],
      "source": [
        "#@markdown ### Restart runtime\n",
        "\n",
        "# Automatically restart kernel after installs so that your environment\n",
        "# can access the new packages.\n",
        "import IPython\n",
        "\n",
        "app = IPython.Application.instance()\n",
        "app.kernel.do_shutdown(True)\n",
        "\n",
        "print(\"☑️ Done\")"
      ]
    },
    {
      "cell_type": "markdown",
      "metadata": {
        "id": "GtJX8Z6UP5dJ"
      },
      "source": [
        "## Setup Google Cloud environment\n",
        "\n",
        ">"
      ]
    },
    {
      "cell_type": "code",
      "execution_count": null,
      "metadata": {
        "cellView": "form",
        "id": "M9YVe5-xOfye"
      },
      "outputs": [],
      "source": [
        "# @markdown ✏️ Replace the placeholder text below:\n",
        "\n",
        "# Please fill in these values.\n",
        "project_id = \"test-nils-ai\"  # @param {type:\"string\"}\n",
        "region = \"us-central1\"  # @param {type:\"string\"}\n",
        "data_bucket = \"test-nils-data-man\"  # @param {type:\"string\"}\n",
        "staging_bucket = \"test-nils-staging-man\"  # @param {type:\"string\"}\n",
        "index_display_name = \"test-nils-index-man\"  # @param {type:\"string\"}\n",
        "vpc_network_name = \"vpc-test-nils-matching-engine\" # @param {type:\"string\"}\n",
        "llm_model = \"text-bison@001\" # @param {type:\"string\"}\n",
        "\n",
        "# Quick input validations.\n",
        "assert project_id, \"⚠️ Please provide a Google Cloud project ID\"\n",
        "assert region, \"⚠️ Please provide a Google Cloud region\"\n",
        "assert data_bucket, \"⚠️ Please provide a Google Cloud storage bucket with unstructured data\"\n",
        "assert staging_bucket, \"⚠️ Please provide a Google Cloud storage bucket for AI staging\"\n",
        "assert index_display_name, \"⚠️ Please provide a index name\"\n",
        "assert vpc_network_name, \"⚠️ Please provide a VPC network name\"\n",
        "assert llm_model, \"⚠️ Please provide a pretrained LLM\"\n",
        "\n",
        "# Configure gcloud.\n",
        "!gcloud config set project \"{project_id}\"\n",
        "!gcloud config set storage/parallel_composite_upload_enabled \"True\"\n",
        "\n",
        "print(\"☑️ Done\")"
      ]
    },
    {
      "cell_type": "code",
      "execution_count": 6,
      "metadata": {
        "cellView": "form",
        "id": "1-qJSxCaNm7o"
      },
      "outputs": [],
      "source": [
        "#@markdown ### (Colab only!) Authenticate your Google Cloud Account\n",
        "\n",
        "# Authenticate gcloud.\n",
        "from google.colab import auth\n",
        "auth.authenticate_user()"
      ]
    },
    {
      "cell_type": "code",
      "execution_count": null,
      "metadata": {
        "cellView": "form",
        "id": "P36weIg5VURP"
      },
      "outputs": [],
      "source": [
        "#@markdown ###  Check authenticated user\n",
        "current_user = !gcloud auth list \\\n",
        "  --filter=\"status:ACTIVE\" \\\n",
        "  --format=\"value(account)\" \\\n",
        "  --quiet\n",
        "\n",
        "current_user = current_user[0]\n",
        "print(f\"Current user: {current_user}\")"
      ]
    },
    {
      "cell_type": "code",
      "execution_count": null,
      "metadata": {
        "cellView": "form",
        "id": "YPTem9iQOpxm"
      },
      "outputs": [],
      "source": [
        "#@markdown ### Enable APIs\n",
        "\n",
        "# Enable APIs\n",
        "my_google_apis = [\n",
        "    \"storage.googleapis.com\",\n",
        "    \"compute.googleapis.com\",\n",
        "    \"notebooks.googleapis.com\",\n",
        "    \"aiplatform.googleapis.com\",\n",
        "    \"servicenetworking.googleapis.com\",\n",
        "    \"vpcaccess.googleapis.com\"\n",
        "]\n",
        "\n",
        "for api in my_google_apis :\n",
        "  print(f\"Enable API: {api}\")\n",
        "  !gcloud services enable \"{api}\" \\\n",
        "    --project=\"{project_id}\" \\\n",
        "    --quiet\n",
        "\n",
        "print(\"☑️ OK\")"
      ]
    },
    {
      "cell_type": "code",
      "execution_count": null,
      "metadata": {
        "cellView": "form",
        "id": "c9kNQQqGZiPf"
      },
      "outputs": [],
      "source": [
        "#@markdown ### Get project number\n",
        "\n",
        "project_number = !gcloud projects list \\\n",
        "  --filter=\"{project_id}\" \\\n",
        "  --format=\"value(PROJECT_NUMBER)\" \\\n",
        "  --quiet\n",
        "\n",
        "project_number = project_number[0]\n",
        "\n",
        "print(f\"Project number: {project_number}\")"
      ]
    },
    {
      "cell_type": "markdown",
      "metadata": {
        "id": "wSzz9cJzOFRc"
      },
      "source": [
        "### Create Storage"
      ]
    },
    {
      "cell_type": "code",
      "execution_count": null,
      "metadata": {
        "cellView": "form",
        "id": "6PhbAE1nujhn"
      },
      "outputs": [],
      "source": [
        "#@markdown ### Create storage bucket for data\n",
        "\n",
        "#@markdown > Only necessary if the bucket does not already exist!\n",
        "!gcloud storage buckets create 'gs://{data_bucket}' \\\n",
        "  --location='{region}' \\\n",
        "  --uniform-bucket-level-access \\\n",
        "  --quiet\n",
        "\n",
        "print(\"☑️ Done\")\n",
        "print(f\"Open in console: https://console.cloud.google.com/storage/browser/{data_bucket}\")"
      ]
    },
    {
      "cell_type": "code",
      "execution_count": null,
      "metadata": {
        "cellView": "form",
        "id": "Eu_wQlpmZ1xc"
      },
      "outputs": [],
      "source": [
        "#@markdown ### Create storage bucket for stating (index)\n",
        "\n",
        "!gcloud storage buckets create 'gs://{staging_bucket}' \\\n",
        "  --location='{region}' \\\n",
        "  --uniform-bucket-level-access \\\n",
        "  --quiet\n",
        "\n",
        "print(\"☑️ Done\")"
      ]
    },
    {
      "cell_type": "markdown",
      "metadata": {
        "id": "TziqFBZs9afV"
      },
      "source": [
        "### Create VPC Network"
      ]
    },
    {
      "cell_type": "code",
      "execution_count": null,
      "metadata": {
        "cellView": "form",
        "id": "0PPqkGD49e_l"
      },
      "outputs": [],
      "source": [
        "#@markdown #### Create a regional VPC network\n",
        "\n",
        "!gcloud compute networks create \"{vpc_network_name}\" \\\n",
        "  --subnet-mode=\"custom\" \\\n",
        "  --bgp-routing-mode=\"regional\" \\\n",
        "  --project=\"{project_id}\" \\\n",
        "  --quiet\n",
        "\n",
        "print(\"☑️ Done\")"
      ]
    },
    {
      "cell_type": "code",
      "execution_count": null,
      "metadata": {
        "cellView": "form",
        "id": "nZi3kqwFcE-i"
      },
      "outputs": [],
      "source": [
        "#@markdown #### Create a subnet in the region\n",
        "\n",
        "!gcloud compute networks subnets create \"{vpc_network_name}-{region}\" \\\n",
        "  --network=\"{vpc_network_name}\" \\\n",
        "  --region=\"{region}\" \\\n",
        "  --range=\"10.128.1.0/24\" \\\n",
        "  --enable-private-ip-google-access \\\n",
        "  --project=\"{project_id}\" \\\n",
        "  --quiet\n",
        "\n",
        "print(\"☑️ Done\")"
      ]
    },
    {
      "cell_type": "code",
      "execution_count": null,
      "metadata": {
        "cellView": "form",
        "id": "GDsH8YrO-QJy"
      },
      "outputs": [],
      "source": [
        "#@markdown #### Create firewall rules\n",
        "\n",
        "!gcloud compute firewall-rules create \"{vpc_network_name}-allow-default\" \\\n",
        "  --allow=\"tcp:22,tcp:3389,icmp\" \\\n",
        "  --network=\"{vpc_network_name}\" \\\n",
        "  --project=\"{project_id}\" \\\n",
        "  --quiet\n",
        "!gcloud compute firewall-rules create \"{vpc_network_name}-allow-internal\" \\\n",
        "  --allow=\"all\" \\\n",
        "  --source-ranges=\"10.128.0.0/9\" \\\n",
        "  --network=\"{vpc_network_name}\" \\\n",
        "  --project=\"{project_id}\" \\\n",
        "  --quiet\n",
        "\n",
        "print(\"☑️ Done\")"
      ]
    },
    {
      "cell_type": "code",
      "execution_count": null,
      "metadata": {
        "cellView": "form",
        "id": "GcXUqsOprVV1"
      },
      "outputs": [],
      "source": [
        "#@markdown #### Create router in region\n",
        "\n",
        "!gcloud compute routers create \"router-{vpc_network_name}-{region}\" \\\n",
        "  --network=\"{vpc_network_name}\" \\\n",
        "  --region=\"{region}\" \\\n",
        "  --project=\"{project_id}\" \\\n",
        "  --quiet\n",
        "\n",
        "print(\"☑️ Done\")"
      ]
    },
    {
      "cell_type": "code",
      "execution_count": 5,
      "metadata": {
        "cellView": "form",
        "id": "j4R3hpparsyI"
      },
      "outputs": [],
      "source": [
        "#@markdown #### Add NAT to router in region\n",
        "\n",
        "!gcloud compute routers nats create \"nat-{vpc_network_name}-{region}\" \\\n",
        "  --router=\"router-{vpc_network_name}-{region}\"  \\\n",
        "  --auto-allocate-nat-external-ips \\\n",
        "  --nat-all-subnet-ip-ranges \\\n",
        "  --enable-logging \\\n",
        "  --log-filter=ERRORS_ONLY \\\n",
        "  --min-ports-per-vm=256 \\\n",
        "  --region=\"{region}\" \\\n",
        "  --project=\"{project_id}\" \\\n",
        "  --quiet\n",
        "\n",
        "print(\"☑️ Done\")"
      ]
    },
    {
      "cell_type": "code",
      "execution_count": null,
      "metadata": {
        "cellView": "form",
        "id": "JCyTYbziRrkj"
      },
      "outputs": [],
      "source": [
        "#@markdown #### Reserve IP addresses for VPC peering in the region\n",
        "\n",
        "!gcloud compute addresses create \"peering-{vpc_network_name}\" \\\n",
        "  --global \\\n",
        "  --prefix-length=16 \\\n",
        "  --network=\"{vpc_network_name}\" \\\n",
        "  --purpose=\"VPC_PEERING\" \\\n",
        "  --description=\"Peering range for Matchin Engine\" \\\n",
        "  --project=\"{project_id}\" \\\n",
        "  --quiet\n",
        "\n",
        "print(\"☑️ Done\")"
      ]
    },
    {
      "cell_type": "code",
      "execution_count": null,
      "metadata": {
        "cellView": "form",
        "id": "Qh-y_SWIQaIj"
      },
      "outputs": [],
      "source": [
        "#@markdown #### Connect to `servicenetworking.googleapis.com` via VPC peering\n",
        "\n",
        "!gcloud services vpc-peerings connect \\\n",
        "  --service=\"servicenetworking.googleapis.com\" \\\n",
        "  --network=\"{vpc_network_name}\" \\\n",
        "  --ranges=\"peering-{vpc_network_name}\" \\\n",
        "  --project=\"{project_id}\" \\\n",
        "  --quiet\n",
        "\n",
        "print(\"☑️ Done\")"
      ]
    },
    {
      "cell_type": "markdown",
      "metadata": {
        "id": "Jrb66nGFQupe"
      },
      "source": [
        "## LangChain & Vertex AI"
      ]
    },
    {
      "cell_type": "code",
      "execution_count": null,
      "metadata": {
        "cellView": "form",
        "id": "cKnQ4iMkMhvY"
      },
      "outputs": [],
      "source": [
        "#@markdown #### Import and print versions\n",
        "\n",
        "import sys\n",
        "print(f\"☑️ Python: {sys.version}\")\n",
        "\n",
        "# Langchain\n",
        "import langchain\n",
        "\n",
        "print(f\"☑️ LangChain version: {langchain.__version__}\")\n",
        "\n",
        "# Vertex AI\n",
        "# https://python.langchain.com/docs/integrations/llms/google_vertex_ai_palm\n",
        "from google.cloud import aiplatform, aiplatform_v1beta1\n",
        "from langchain.llms import VertexAI\n",
        "\n",
        "aiplatform.init(\n",
        "    project=project_id,\n",
        "    location=region,\n",
        "    staging_bucket=staging_bucket\n",
        ")\n",
        "\n",
        "print(f\"☑️ Vertex AI SDK version: {aiplatform.__version__}\")"
      ]
    },
    {
      "cell_type": "markdown",
      "metadata": {
        "id": "fCKhZfDJOYsn"
      },
      "source": [
        "## Staging"
      ]
    },
    {
      "cell_type": "markdown",
      "metadata": {
        "id": "MyRgyd_AzMtk"
      },
      "source": [
        "### Directory Loader"
      ]
    },
    {
      "cell_type": "code",
      "execution_count": null,
      "metadata": {
        "id": "pmp_tT1Eawlg"
      },
      "outputs": [],
      "source": [
        "# Load documents from bucket.\n",
        "# This code snippet may run for a few (5-35) minutes.\n",
        "\n",
        "# https://python.langchain.com/docs/integrations/document_loaders/google_cloud_storage_directory\n",
        "from langchain.document_loaders import GCSDirectoryLoader\n",
        "\n",
        "loader = GCSDirectoryLoader(project_name=f\"{project_id}\", bucket=f\"{data_bucket}\")\n",
        "documents = loader.load()\n",
        "\n",
        "print(f\"☑️ You have {len(documents)} documents.\")"
      ]
    },
    {
      "cell_type": "markdown",
      "metadata": {
        "id": "EdxlY5V_vIXD"
      },
      "source": [
        "### Text Splitter\n",
        "\n"
      ]
    },
    {
      "cell_type": "code",
      "execution_count": null,
      "metadata": {
        "id": "Fp8K_cUrdQEL"
      },
      "outputs": [],
      "source": [
        "# Split long text descriptions into smaller chunks that can fit into\n",
        "# the API request size limit, as expected by the LLM providers.\n",
        "\n",
        "# https://python.langchain.com/docs/modules/data_connection/document_transformers/text_splitters/character_text_splitter\n",
        "from langchain.text_splitter import CharacterTextSplitter\n",
        "\n",
        "text_splitter = CharacterTextSplitter(\n",
        "    separator = \"\\n\",\n",
        "    chunk_size = 1000,\n",
        "    chunk_overlap  = 100)\n",
        "\n",
        "document_chunks = text_splitter.split_documents(documents)\n",
        "\n",
        "print(f\"Number documents {len(documents)}\")\n",
        "print(f\"Number chunks {len(document_chunks)}\")\n",
        "\n",
        "document_chunks=[f\"Context: {chunk.page_content} Source: {chunk.metadata['source']}\" for chunk in document_chunks]\n",
        "\n",
        "print(\"☑️ Done\")"
      ]
    },
    {
      "cell_type": "markdown",
      "metadata": {
        "id": "uOU-nXszvCB3"
      },
      "source": [
        "### Embeddings\n",
        "\n",
        "While the embeddings are stored in the Matching Engine, the embedded    documents will be stored in GCS (must be in folder with name `documents`)."
      ]
    },
    {
      "cell_type": "code",
      "execution_count": null,
      "metadata": {
        "id": "ucDmCC916zG1"
      },
      "outputs": [],
      "source": [
        "# Create empty local documents folder\n",
        "!rm -rf ./documents\n",
        "!mkdir -p ./documents\n",
        "\n",
        "print(\"☑️ Done\")"
      ]
    },
    {
      "cell_type": "code",
      "execution_count": null,
      "metadata": {
        "id": "E3E_9fCqfgAX"
      },
      "outputs": [],
      "source": [
        "# Generate the vector embeddings for each chunk of text.\n",
        "# This code snippet may run for several (5-30) minutes.\n",
        "\n",
        "# Utils\n",
        "import time\n",
        "import pandas as pd\n",
        "import json\n",
        "\n",
        "# https://python.langchain.com/docs/integrations/text_embedding/google_vertex_ai_palm\n",
        "from langchain.embeddings import VertexAIEmbeddings\n",
        "\n",
        "\n",
        "def handle_quota_errors(func, *args, retry_delay=5,backoff_factor=2, **kwargs):\n",
        "    retries = 0\n",
        "\n",
        "    try:\n",
        "      return func(*args, **kwargs)\n",
        "    except Exception as e:\n",
        "      print(f\"error: {e}\")\n",
        "      retries += 1\n",
        "      wait = retry_delay * (backoff_factor ** retries)\n",
        "      time.sleep(wait)\n",
        "      print(\"wait for {wait} seconds\")\n",
        "\n",
        "\n",
        "embeddings = VertexAIEmbeddings()\n",
        "\n",
        "df = pd.DataFrame(document_chunks, columns =['text'])\n",
        "\n",
        "index_embeddings = []\n",
        "\n",
        "for index, doc in df.iterrows():\n",
        "  print(f\"Get embedding and write document for document {index} of {len(df)-1}\")\n",
        "  embedding = handle_quota_errors(embeddings.embed_query, doc['text'])\n",
        "\n",
        "  if embedding is not None:\n",
        "\n",
        "    doc_id=f\"{index}.txt\"\n",
        "    embedding_dict = {\n",
        "              \"id\": doc_id,\n",
        "              \"embedding\": [str(value) for value in embedding],\n",
        "    }\n",
        "    index_embeddings.append(json.dumps(embedding_dict) + \"\\n\")\n",
        "\n",
        "    doc_id = f\"{index}.txt\"\n",
        "    with open(f\"documents/{doc_id}\", \"w\") as document:\n",
        "      document.write(doc['text'])\n",
        "\n",
        "\n",
        "with open(\"embeddings.json\", \"w\") as f:\n",
        "    f.writelines(index_embeddings)\n",
        "\n",
        "print(\"☑️ Done\")"
      ]
    },
    {
      "cell_type": "code",
      "execution_count": null,
      "metadata": {
        "id": "DHYjxHp5Liu_"
      },
      "outputs": [],
      "source": [
        "# Test JSON\n",
        "# It has already happened that the JSON was invalid. If it happens just create it again.\n",
        "!jq -er '.' < \"embeddings.json\" > /dev/null && echo \"☑️ OK\""
      ]
    },
    {
      "cell_type": "code",
      "execution_count": null,
      "metadata": {
        "id": "vcWjl1cv8AYe"
      },
      "outputs": [],
      "source": [
        "# Copy data to staging bucket\n",
        "\n",
        "!gcloud storage cp --gzip-in-flight-all documents/* gs://{staging_bucket}/documents/\n",
        "!gcloud storage cp embeddings.json gs://{staging_bucket}/embeddings/embeddings.json\n",
        "\n",
        "print(\"☑️ Done\")"
      ]
    },
    {
      "cell_type": "markdown",
      "metadata": {
        "id": "6UIt2zdCXKpn"
      },
      "source": [
        "### Create ANN Index (for Production Usage)\n"
      ]
    },
    {
      "cell_type": "code",
      "execution_count": null,
      "metadata": {
        "id": "ENF5x8VyclcN"
      },
      "outputs": [],
      "source": [
        "# Create the index configuration\n",
        "# This code snippet may run for several (>30) minutes.\n",
        "\n",
        "# ANN = Approximate Nearest Neighbors algorithm\n",
        "\n",
        "my_index = aiplatform.MatchingEngineIndex.create_tree_ah_index(\n",
        "    display_name=f\"{index_display_name}-index\",\n",
        "    contents_delta_uri=f\"gs://{staging_bucket}/embeddings/\",\n",
        "    dimensions=768,\n",
        "    approximate_neighbors_count=150,\n",
        "    distance_measure_type=\"DOT_PRODUCT_DISTANCE\",\n",
        "    description=f\"Index {index_display_name}\",\n",
        ")\n",
        "\n",
        "print(\"☑️ Done\")"
      ]
    },
    {
      "cell_type": "code",
      "execution_count": null,
      "metadata": {
        "id": "v-fokmuX9DBm"
      },
      "outputs": [],
      "source": [
        "# Create endpoint\n",
        "\n",
        "my_index_endpoint = aiplatform.MatchingEngineIndexEndpoint.create(\n",
        "    display_name=f\"{index_display_name}-endpoint\",\n",
        "    description=f\"Endpoint for index {index_display_name}\",\n",
        "    # Deploy to VPC network.\n",
        "    network=f\"projects/{project_number}/global/networks/{vpc_network_name}\"\n",
        "    # Or use public endpoint.\n",
        "    # IMPORTANT: Public endpoint is beta.\n",
        "    # You need to use aiplatform_v1beta1 when _query_ or inserting vectors.\n",
        "    # https://cloud.google.com/vertex-ai/docs/matching-engine/deploy-index-public\n",
        "    # public_endpoint_enabled=True\n",
        ")\n",
        "\n",
        "print(\"☑️ Done\")"
      ]
    },
    {
      "cell_type": "code",
      "execution_count": null,
      "metadata": {
        "id": "tVvGkCjUR0sB"
      },
      "outputs": [],
      "source": [
        "# Deploy index\n",
        "# This code snippet may run for several (15-50) minutes.\n",
        "# In the background everything is deployed for you (2x n1-standard-16).\n",
        "\n",
        "my_deployed_index = my_index_endpoint.deploy_index(\n",
        "    index=my_index,\n",
        "    deployed_index_id=index_display_name.replace('-','_')\n",
        ")\n",
        "\n",
        "print(\"☑️ Done\")"
      ]
    },
    {
      "cell_type": "code",
      "execution_count": null,
      "metadata": {
        "id": "S8M5KUDMPUjT"
      },
      "outputs": [],
      "source": [
        "# Get the index ID\n",
        "print(\"Index ID:\")\n",
        "!gcloud ai indexes list \\\n",
        "  --format='value(name)' \\\n",
        "  --project=\"{project_id}\" \\\n",
        "  --region=\"{region}\" \\\n",
        "  --filter=\"displayName ~ {index_display_name}\" \\\n",
        "  --quiet\n",
        "\n",
        "# Get the index endpoints ID\n",
        "print(\"\\nEndpoint ID:\")\n",
        "!gcloud ai index-endpoints list \\\n",
        "  --format='value(name)' \\\n",
        "  --filter=\"displayName ~ {index_display_name}\" \\\n",
        "  --project=\"{project_id}\" \\\n",
        "  --region=\"{region}\" \\\n",
        "  --quiet"
      ]
    },
    {
      "cell_type": "code",
      "execution_count": null,
      "metadata": {
        "cellView": "form",
        "id": "Gf--W3Gd3h4W"
      },
      "outputs": [],
      "source": [
        "# @markdown ✏️ Enter and store index and endpoind ID for later use:\n",
        "my_index_id    = \"6751098151567884288\" # @param {type:\"string\"}\n",
        "my_endpoint_id = \"748925748189855744\" # @param {type:\"string\"}\n",
        "\n",
        "# Quick input validations.\n",
        "assert my_index_id, \"⚠️ Please input a valid index ID\"\n",
        "assert my_endpoint_id, \"⚠️ Please input a valid end ID\"\n",
        "\n",
        "print(\"☑️ OK\")"
      ]
    },
    {
      "cell_type": "markdown",
      "metadata": {
        "id": "ajTvOAqDGQt_"
      },
      "source": [
        "## Vertex Workbench\n",
        "\n",
        "Deploy Vertex user-managed notebooks instance in VPC network."
      ]
    },
    {
      "cell_type": "code",
      "execution_count": null,
      "metadata": {
        "id": "f6vQJ0iAGVmJ"
      },
      "outputs": [],
      "source": [
        "# Create user-managed instance for workbench/notebooks\n",
        "# This code snippet may run for a few (>5) minutes.\n",
        "\n",
        "print(\"Please wait...\")\n",
        "\n",
        "# OS images: https://gcloud-compute.com/images.html\n",
        "!gcloud notebooks instances create \"workbench-{vpc_network_name}\" \\\n",
        "  --machine-type=\"n1-standard-2\" \\\n",
        "  --vm-image-project=\"deeplearning-platform-release\"\\\n",
        "  --vm-image-family=\"tf-latest-gpu-ubuntu-2004-py310\" \\\n",
        "  --boot-disk-size=\"75\" \\\n",
        "  --boot-disk-type=\"PD_SSD\" \\\n",
        "  --data-disk-size=\"150\"\\\n",
        "  --data-disk-type=\"PD_SSD\" \\\n",
        "  --network=\"{vpc_network_name}\" \\\n",
        "  --subnet=\"{vpc_network_name}-{region}\" \\\n",
        "  --subnet-region=\"{region}\" \\\n",
        "  --no-public-ip \\\n",
        "  --project=\"{project_id}\" \\\n",
        "  --location=\"{region}-b\" \\\n",
        "  --quiet\n",
        "\n",
        "print(\"☑️ Done\")"
      ]
    },
    {
      "cell_type": "markdown",
      "metadata": {
        "id": "Y--PVmPXQz63"
      },
      "source": [
        "### Query\n",
        "\n",
        "⚠️ Only works withing the same VPC network. Will not work on your local environment or notebooks (like Colab) outside of the network!\n",
        "\n",
        "Use Vertex user-managed notebooks instance in same VPC network."
      ]
    },
    {
      "cell_type": "code",
      "execution_count": 119,
      "metadata": {
        "id": "TzrnXPEtairx"
      },
      "outputs": [],
      "source": [
        "# Vertex AI Matching Engine as Vector Store\n",
        "# https://cloud.google.com/vertex-ai/docs/matching-engine/overview\n",
        "# https://python.langchain.com/docs/integrations/vectorstores/matchingengine\n",
        "from langchain.vectorstores.matching_engine import MatchingEngine\n",
        "from langchain.agents import Tool\n",
        "\n",
        "from langchain.embeddings import VertexAIEmbeddings\n",
        "embeddings = VertexAIEmbeddings()\n",
        "\n",
        "from vertexai.preview.language_models import TextGenerationModel\n",
        "model = TextGenerationModel.from_pretrained(llm_model)\n",
        "\n",
        "def matching_engine_search(question):\n",
        "\n",
        "    vector_store = MatchingEngine.from_components(\n",
        "                        index_id=my_index_id,\n",
        "                        region=region,\n",
        "                        embedding=embeddings,\n",
        "                        project_id=project_id,\n",
        "                        endpoint_id=my_endpoint_id,\n",
        "                        gcs_bucket_name=staging_bucket)\n",
        "\n",
        "    relevant_documentation=vector_store.similarity_search(question, k=8)\n",
        "    context = \"\\n\".join([doc.page_content for doc in relevant_documentation])[:6000]\n",
        "    return str(context)\n",
        "\n",
        "print(\"☑️ OK\")"
      ]
    },
    {
      "cell_type": "code",
      "execution_count": null,
      "metadata": {
        "cellView": "form",
        "id": "TRO-wFrhvrlG"
      },
      "outputs": [],
      "source": [
        "# @markdown Enter search query in a simple English text.\n",
        "user_query = \"What is the default shell and the command to show the uptime?\"  # @param {type:\"string\"}\n",
        "\n",
        "# Quick input validations.\n",
        "assert user_query, \"⚠️ Please input a valid input search text\"\n",
        "\n",
        "matching_engine_response=matching_engine_search(user_query)\n",
        "print(f\"Contex:\\n---schnipp---\\n{matching_engine_response}\\n---schnapp---\")\n",
        "\n",
        "prompt=f\"\"\"\n",
        "I want you to act as a Linux expert. Follow exactly those 3 steps:\n",
        "1. Read the context below and aggregrate this data\n",
        "Context : {matching_engine_response}\n",
        "2. Answer the question using only this context\n",
        "3. Always show the sources for your answers\n",
        "User Question: {user_query}\n",
        "\n",
        "\n",
        "If you don't have any context and are unsure of the answer, reply with 'I don't know about this topic'.\n",
        "\"\"\"\n",
        "\n",
        "contex_len=len(matching_engine_response)\n",
        "print(f\"Contex length: {contex_len}\")\n",
        "prompt_len=len(prompt)\n",
        "print(f\"Prompt length: {prompt_len}\")\n",
        "\n",
        "response = model.predict(\n",
        "        prompt,\n",
        "        temperature=0.2,\n",
        "        top_k=40,\n",
        "        top_p=.8,\n",
        "        max_output_tokens=1024,\n",
        ")\n",
        "\n",
        "print(f\"Question: \\n{user_query}\")\n",
        "print(f\"Response: \\n{response.text}\")"
      ]
    },
    {
      "cell_type": "markdown",
      "metadata": {
        "id": "JT6u0A4_COI_"
      },
      "source": [
        "## Helper"
      ]
    },
    {
      "cell_type": "code",
      "execution_count": null,
      "metadata": {
        "id": "eZfDSitMCRGU"
      },
      "outputs": [],
      "source": [
        "# Lists the indexes of project in region\n",
        "!gcloud ai indexes list \\\n",
        "  --project=\"{project_id}\" \\\n",
        "  --region=\"{region}\""
      ]
    },
    {
      "cell_type": "code",
      "execution_count": null,
      "metadata": {
        "id": "FngQ4Hy_Cqi0"
      },
      "outputs": [],
      "source": [
        "# Lists the index endpoints of project in region\n",
        "!gcloud ai index-endpoints list \\\n",
        "  --project=\"{project_id}\" \\\n",
        "  --region=\"{region}\""
      ]
    },
    {
      "cell_type": "code",
      "execution_count": null,
      "metadata": {
        "id": "G1GaSDMivN1r"
      },
      "outputs": [],
      "source": [
        "# Get the index public domain name\n",
        "# https://cloud.google.com/vertex-ai/docs/matching-engine/deploy-index-public#get_the_index_domain_name\n",
        "!gcloud ai index-endpoints list \\\n",
        "  --format='value(publicEndpointDomainName)' \\\n",
        "  --filter=\"displayName ~ {index_display_name}\" \\\n",
        "  --project=\"{project_id}\" \\\n",
        "  --region=\"{region}\" \\\n",
        "  --quiet"
      ]
    },
    {
      "cell_type": "code",
      "execution_count": null,
      "metadata": {
        "id": "IGFOHk4QDpsY"
      },
      "outputs": [],
      "source": [
        "# List notebooks instances in a region/location\n",
        "!gcloud notebooks instances list \\\n",
        "  --location=\"{region}-b\" \\\n",
        "  --project=\"{project_id}\" \\\n",
        "  --quiet"
      ]
    },
    {
      "cell_type": "markdown",
      "metadata": {
        "id": "WfGv05ZTiE_z"
      },
      "source": [
        "## Clean up"
      ]
    },
    {
      "cell_type": "markdown",
      "metadata": {
        "id": "50fEQL8Wg98U"
      },
      "source": [
        "### Index"
      ]
    },
    {
      "cell_type": "code",
      "execution_count": null,
      "metadata": {
        "id": "kU7OWLzP4Ppz"
      },
      "outputs": [],
      "source": [
        "# Undeploy the deployed-index\n",
        "deployed_index_id = index_display_name.replace('-','_')\n",
        "\n",
        "print(f\"Undeploy index: {deployed_index_id}\")\n",
        "print(f\"Endpoint ID: {my_endpoint_id}\")\n",
        "print(f\"Project: {project_id}\")\n",
        "\n",
        "!gcloud ai index-endpoints undeploy-index '{my_endpoint_id}' \\\n",
        "  --deployed-index-id=\"{deployed_index_id}\" \\\n",
        "  --project=\"{project_id}\" \\\n",
        "  --region=\"{region}\" \\\n",
        "  --quiet\n",
        "print(\"☑️ Done\")"
      ]
    },
    {
      "cell_type": "code",
      "execution_count": null,
      "metadata": {
        "id": "ZZXCHSwaRSN8"
      },
      "outputs": [],
      "source": [
        "# Delete index endpoint 123 of project in region\n",
        "!gcloud ai index-endpoints delete '{my_endpoint_id}' \\\n",
        "  --project=\"{project_id}\" \\\n",
        "  --region=\"{region}\" \\\n",
        "  --quiet\n",
        "print(\"☑️ Done\")"
      ]
    },
    {
      "cell_type": "code",
      "execution_count": null,
      "metadata": {
        "id": "4Dkz-ciCiSzW"
      },
      "outputs": [],
      "source": [
        "# Delete index 123 of project in region\n",
        "!gcloud ai indexes delete '{my_index_id}' \\\n",
        "  --project=\"{project_id}\" \\\n",
        "  --region=\"{region}\" \\\n",
        "  --quiet\n",
        "print(\"☑️ Done\")"
      ]
    },
    {
      "cell_type": "markdown",
      "metadata": {
        "id": "BRIHgfxBg5c7"
      },
      "source": [
        "### Storage"
      ]
    },
    {
      "cell_type": "code",
      "execution_count": null,
      "metadata": {
        "id": "m8zjoO3-vHeY"
      },
      "outputs": [],
      "source": [
        "# Delete data bucket\n",
        "! gcloud storage rm -r 'gs://{data_bucket}' \\\n",
        "  --project=\"{project_id}\" \\\n",
        "  --quiet\n",
        "print(\"☑️ Done\")"
      ]
    },
    {
      "cell_type": "code",
      "execution_count": null,
      "metadata": {
        "id": "0JUd4W-piYOR"
      },
      "outputs": [],
      "source": [
        "# Delete staging bucket\n",
        "! gcloud storage rm -r 'gs://{staging_bucket}' \\\n",
        "  --project=\"{project_id}\" \\\n",
        "  --quiet\n",
        "print(\"☑️ Done\")"
      ]
    },
    {
      "cell_type": "markdown",
      "metadata": {
        "id": "RNzImTxxgzQA"
      },
      "source": [
        "### Vertex Workbench"
      ]
    },
    {
      "cell_type": "code",
      "execution_count": null,
      "metadata": {
        "id": "GVvQ0EBMLG2l"
      },
      "outputs": [],
      "source": [
        "# Delete user-managed notebooks/workbench instance\n",
        "print(\"Please wait...\")\n",
        "!gcloud notebooks instances delete \"workbench-{vpc_network_name}\" \\\n",
        "  --project=\"{project_id}\" \\\n",
        "  --location=\"{region}-b\" \\\n",
        "  --quiet\n",
        "print(\"☑️ Done\")"
      ]
    },
    {
      "cell_type": "markdown",
      "metadata": {
        "id": "v5YmsWt3hCqW"
      },
      "source": [
        "### Network"
      ]
    },
    {
      "cell_type": "code",
      "execution_count": null,
      "metadata": {
        "id": "payq3DVwuEep"
      },
      "outputs": [],
      "source": [
        "# Delete peering to servicenetworking.googleapis.com\n",
        "print(\"Please wait...\")\n",
        "!gcloud services vpc-peerings delete \\\n",
        "  --service=\"servicenetworking.googleapis.com\" \\\n",
        "  --network=\"{vpc_network_name}\" \\\n",
        "  --project=\"{project_id}\" \\\n",
        "  --quiet\n",
        "print(\"☑️ Done\")"
      ]
    },
    {
      "cell_type": "code",
      "execution_count": null,
      "metadata": {
        "id": "7bhUArgitwwA"
      },
      "outputs": [],
      "source": [
        "# Delete IP addresses for VPC peering in the region\n",
        "print(\"Please wait...\")\n",
        "!gcloud compute addresses delete \"peering-{vpc_network_name}\" \\\n",
        "  --global \\\n",
        "  --project=\"{project_id}\" \\\n",
        "  --quiet\n",
        "print(\"☑️ Done\")"
      ]
    },
    {
      "cell_type": "code",
      "execution_count": null,
      "metadata": {
        "id": "BBeuf2K6sanC"
      },
      "outputs": [],
      "source": [
        "# Delete NAT router in region\n",
        "print(\"Please wait...\")\n",
        "!gcloud compute routers nats delete \"nat-{vpc_network_name}-{region}\" \\\n",
        "  --router=\"router-{vpc_network_name}-{region}\"  \\\n",
        "  --region=\"{region}\" \\\n",
        "  --project=\"{project_id}\" \\\n",
        "  --quiet\n",
        "print(\"☑️ Done\")"
      ]
    },
    {
      "cell_type": "code",
      "execution_count": null,
      "metadata": {
        "id": "fUffwSOLsodd"
      },
      "outputs": [],
      "source": [
        "# Delete router\n",
        "print(\"Please wait...\")\n",
        "!gcloud compute routers delete \"router-{vpc_network_name}-{region}\" \\\n",
        "  --region=\"{region}\" \\\n",
        "  --project=\"{project_id}\" \\\n",
        "  --quiet\n",
        "print(\"☑️ Done\")"
      ]
    },
    {
      "cell_type": "code",
      "execution_count": null,
      "metadata": {
        "id": "lJmcqaxFtCV5"
      },
      "outputs": [],
      "source": [
        "# Delete subnet\n",
        "print(\"Please wait...\")\n",
        "!gcloud compute networks subnets delete \"{vpc_network_name}-{region}\" \\\n",
        "  --region=\"{region}\" \\\n",
        "  --project=\"{project_id}\" \\\n",
        "  --quiet\n",
        "print(\"☑️ Done\")"
      ]
    },
    {
      "cell_type": "code",
      "execution_count": null,
      "metadata": {
        "id": "bZe3sTaXtKpM"
      },
      "outputs": [],
      "source": [
        "# Delete VPC\n",
        "print(\"Please wait...\")\n",
        "!gcloud compute networks delete \"{vpc_network_name}\" \\\n",
        "  --project=\"{project_id}\" \\\n",
        "  --quiet\n",
        "print(\"☑️ Done\")"
      ]
    }
  ],
  "metadata": {
    "colab": {
      "provenance": [],
      "toc_visible": true
    },
    "kernelspec": {
      "display_name": "Python 3",
      "name": "python3"
    },
    "language_info": {
      "name": "python"
    }
  },
  "nbformat": 4,
  "nbformat_minor": 0
}
