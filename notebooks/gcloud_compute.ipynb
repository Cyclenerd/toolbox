{
  "cells": [
    {
      "cell_type": "markdown",
      "metadata": {
        "id": "Zo7azJf3WDWu"
      },
      "source": [
        "# Google Compute Engine Machine Types\n",
        "\n",
        "[![Open in Colab](https://img.shields.io/badge/Open%20in%20Colab-%23F9AB00.svg?logo=googlecolab&logoColor=white)](https://colab.research.google.com/github/Cyclenerd/toolbox/notebooks/gcloud_compute.ipynb)\n",
        "[![View on GitHub](https://img.shields.io/badge/View%20on%20GitHub-181717.svg?logo=github&logoColor=white)](https://console.cloud.google.com/vertex-ai/workbench/deploy-notebook?download_url=https://raw.githubusercontent.com/Cyclenerd/toolbox/master/notebooks/gcloud_compute.ipynb)\n",
        "\n",
        "\n",
        "Example how to query CSV export from [gcloud-compute.com](https://gcloud-compute.com) with all Google Compute instances."
      ]
    },
    {
      "cell_type": "markdown",
      "metadata": {
        "id": "JZ13Iad7XMSc"
      },
      "source": [
        "## Download CSV"
      ]
    },
    {
      "cell_type": "code",
      "execution_count": null,
      "metadata": {
        "cellView": "form",
        "id": "cpjxAmH3OJgB"
      },
      "outputs": [],
      "source": [
        "# @markdown Download CSV file with all GCE machine types per region.\n",
        "\n",
        "from os import name\n",
        "import pandas as pd\n",
        "\n",
        "!curl -O \"https://gcloud-compute.com/machine-types-regions.csv\"\n",
        "\n",
        "instances=pd.read_csv(\"machine-types-regions.csv\", header = 0, sep=',')"
      ]
    },
    {
      "cell_type": "markdown",
      "metadata": {
        "id": "jZ-9UY6mXVXK"
      },
      "source": [
        "## Query Data"
      ]
    },
    {
      "cell_type": "code",
      "execution_count": null,
      "metadata": {
        "cellView": "form",
        "id": "XdPNyRuUUF4G"
      },
      "outputs": [],
      "source": [
        "# @markdown Please specify your requirements:\n",
        "\n",
        "# Please fill in these values.\n",
        "region = \"europe-west4\"  # @param {type:\"string\"}\n",
        "min_vcpus = \"0\"  # @param {type:\"string\"}\n",
        "max_vcpus = \"8\"  # @param {type:\"string\"}\n",
        "\n",
        "# Quick input validations.\n",
        "assert region, \"⚠️ Please provide a Google Cloud region\"\n",
        "assert min_vcpus, \"⚠️ Please specify the minimum CPU count\"\n",
        "assert max_vcpus, \"⚠️ Please specify the maximum CPU count\"\n",
        "\n",
        "min_vcpus = float(min_vcpus)\n",
        "max_vcpus = float(max_vcpus)\n"
      ]
    },
    {
      "cell_type": "code",
      "execution_count": null,
      "metadata": {
        "colab": {
          "base_uri": "https://localhost:8080/"
        },
        "id": "VRBqoicsNmFQ",
        "outputId": "bc4f82fb-e05b-45dd-a172-673fcc23d8d1"
      },
      "outputs": [
        {
          "name": "stdout",
          "output_type": "stream",
          "text": [
            "                name  vCpus  memoryGiB       month\n",
            "2294        f1-micro    1.0       0.60    4.292400\n",
            "2295        g1-small    1.0       1.70   14.461300\n",
            "2331   n1-standard-1    1.0       3.75   26.721212\n",
            "2399  t2a-standard-1    1.0       4.00   30.930100\n",
            "2406  t2d-standard-1    1.0       4.00   33.952300\n",
            "2287        e2-micro    2.0       1.00    6.731699\n",
            "2288        e2-small    2.0       2.00   13.463397\n",
            "2286       e2-medium    2.0       4.00   26.926795\n",
            "2278    e2-highcpu-2    2.0       2.00   39.758048\n",
            "2318    n1-highcpu-2    2.0       1.80   39.857591\n",
            "2370   n2d-highcpu-2    2.0       2.00   40.114474\n",
            "2340    n2-highcpu-2    2.0       2.00   46.107812\n",
            "2333   n1-standard-2    2.0       7.50   53.442424\n",
            "2290   e2-standard-2    2.0       8.00   53.853589\n",
            "2390  n2d-standard-2    2.0       8.00   54.337261\n",
            "2240   c2d-highcpu-2    2.0       4.00   60.252740\n",
            "2401  t2a-standard-2    2.0       8.00   61.860200\n",
            "2360   n2-standard-2    2.0       8.00   62.454554\n",
            "2325    n1-highmem-2    2.0      13.00   66.550596\n",
            "2408  t2d-standard-2    2.0       8.00   67.904600\n",
            "2283    e2-highmem-2    2.0      16.00   72.647644\n",
            "2254  c2d-standard-2    2.0       8.00   72.981020\n",
            "2380   n2d-highmem-2    2.0      16.00   73.300977\n",
            "2350    n2-highmem-2    2.0      16.00   84.250209\n",
            "2247   c2d-highmem-2    2.0      16.00   98.437580\n",
            "2280    e2-highcpu-4    4.0       4.00   79.516097\n",
            "2320    n1-highcpu-4    4.0       3.60   79.715182\n",
            "2373   n2d-highcpu-4    4.0       4.00   80.228948\n",
            "2342    n2-highcpu-4    4.0       4.00   92.215624\n",
            "2335   n1-standard-4    4.0      15.00  106.884848\n",
            "2292   e2-standard-4    4.0      16.00  107.707178\n",
            "2393  n2d-standard-4    4.0      16.00  108.674522\n",
            "2242   c2d-highcpu-4    4.0       8.00  120.505480\n",
            "2403  t2a-standard-4    4.0      16.00  123.720400\n",
            "2362   n2-standard-4    4.0      16.00  124.909107\n",
            "2327    n1-highmem-4    4.0      26.00  133.101192\n",
            "2235   c2-standard-4    4.0      16.00  134.278809\n",
            "2410  t2d-standard-4    4.0      16.00  135.809200\n",
            "2261    c3-highcpu-4    4.0       8.00  138.524800\n",
            "2284    e2-highmem-4    4.0      32.00  145.295287\n",
            "2256  c2d-standard-4    4.0      16.00  145.962040\n",
            "2382   n2d-highmem-4    4.0      32.00  146.601953\n",
            "2273   c3-standard-4    4.0      16.00  167.806560\n",
            "2352    n2-highmem-4    4.0      32.00  168.500419\n",
            "2249   c2d-highmem-4    4.0      32.00  196.875160\n",
            "2267    c3-highmem-4    4.0      32.00  226.370080\n",
            "2300   g2-standard-4    4.0      16.00  568.153893\n"
          ]
        }
      ],
      "source": [
        "print(instances[\n",
        "    (instances['vCpus'] > min_vcpus) &\n",
        "    (instances['vCpus'] < max_vcpus) &\n",
        "    (instances['region'] == region)\n",
        "  ][['name', 'vCpus', 'memoryGiB', 'month']].sort_values(by=['vCpus', 'month']))\n"
      ]
    }
  ],
  "metadata": {
    "colab": {
      "provenance": [],
      "toc_visible": true
    },
    "kernelspec": {
      "display_name": "Python 3",
      "name": "python3"
    },
    "language_info": {
      "name": "python"
    }
  },
  "nbformat": 4,
  "nbformat_minor": 0
}
