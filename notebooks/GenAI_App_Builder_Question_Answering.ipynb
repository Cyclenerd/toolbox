{
  "cells": [
    {
      "cell_type": "code",
      "execution_count": null,
      "metadata": {
        "id": "NI44J_8tet5A"
      },
      "outputs": [],
      "source": [
        "# Copyright 2023 Nils Knieling\n",
        "#\n",
        "# Licensed under the Apache License, Version 2.0 (the \"License\");\n",
        "# you may not use this file except in compliance with the License.\n",
        "# You may obtain a copy of the License at\n",
        "#\n",
        "#     https://www.apache.org/licenses/LICENSE-2.0\n",
        "#\n",
        "# Unless required by applicable law or agreed to in writing, software\n",
        "# distributed under the License is distributed on an \"AS IS\" BASIS,\n",
        "# WITHOUT WARRANTIES OR CONDITIONS OF ANY KIND, either express or implied.\n",
        "# See the License for the specific language governing permissions and\n",
        "# limitations under the License."
      ]
    },
    {
      "cell_type": "markdown",
      "metadata": {
        "id": "359697d5"
      },
      "source": [
        "# Building AI-powered applications using LangChain and Google GenAI App Builder (Google Enterprise Search)\n",
        "\n",
        "[![Open in Colab](https://img.shields.io/badge/Open%20in%20Colab-%23F9AB00.svg?logo=googlecolab&logoColor=white)](https://colab.research.google.com/github/Cyclenerd/toolbox/blob/master/notebooks/GenAI_App_Builder_Question_Answering.ipynb)\n",
        "[![Open in Vertex AI Workbench](https://img.shields.io/badge/Open%20in%20Vertex%20AI%20Workbench-%234285F4.svg?logo=googlecloud&logoColor=white)](https://console.cloud.google.com/vertex-ai/workbench/deploy-notebook?download_url=https://raw.githubusercontent.com/Cyclenerd/toolbox/master/notebooks/GenAI_App_Builder_Question_Answering.ipynb)\n",
        "[![View on GitHub](https://img.shields.io/badge/View%20on%20GitHub-181717.svg?logo=github&logoColor=white)](https://github.com/Cyclenerd/toolbox/blob/master/notebooks/GenAI_App_Builder_Question_Answering.ipynb)\n",
        "\n",
        "Portions of this notebook are modifications based on work created and shared by [Google](https://github.com/GoogleCloudPlatform/generative-ai/blob/main/gen-app-builder/retrieval-augmented-generation/examples/question_answering.ipynb)."
      ]
    },
    {
      "cell_type": "markdown",
      "metadata": {
        "id": "pQbOO-Lc-2-7"
      },
      "source": [
        "## Install required packages\n",
        "\n",
        ">⚠️ You may receive a warning to \"Restart Runtime\" after the packages are installed. Don't worry, the subsequent cells will help you restart the runtime."
      ]
    },
    {
      "cell_type": "code",
      "execution_count": null,
      "metadata": {
        "cellView": "form",
        "id": "ohPUPez8imvE"
      },
      "outputs": [],
      "source": [
        "#@markdown ### Install dependencies\n",
        "\n",
        "!pip install langchain==0.0.244\n",
        "!pip install -U google-cloud-aiplatform==1.28.1 \"shapely < 2.0.0\"\n",
        "!pip install google-cloud-storage==2.8.0\n",
        "!pip install google-cloud-discoveryengine==0.9.1\n",
        "!pip install pydantic==1.10.8\n",
        "!pip install typing-inspect==0.8.0\n",
        "!pip install typing_extensions==4.5.0\n",
        "\n",
        "print(\"☑️ Done\")"
      ]
    },
    {
      "cell_type": "code",
      "execution_count": null,
      "metadata": {
        "cellView": "form",
        "id": "Bo9qtI_wfrMS"
      },
      "outputs": [],
      "source": [
        "#@markdown ### Restart\n",
        "\n",
        "# Automatically restart kernel after installs so that your environment\n",
        "# can access the new packages.\n",
        "import IPython\n",
        "\n",
        "app = IPython.Application.instance()\n",
        "app.kernel.do_shutdown(True)\n",
        "\n",
        "print(\"☑️ Done\")"
      ]
    },
    {
      "cell_type": "markdown",
      "metadata": {
        "id": "ILub7XLtgEC9"
      },
      "source": [
        "## Setup Google Cloud environment"
      ]
    },
    {
      "cell_type": "code",
      "execution_count": null,
      "metadata": {
        "cellView": "form",
        "id": "4CB1WM2BgNqs"
      },
      "outputs": [],
      "source": [
        "# @markdown ✏️ Replace the placeholder text below:\n",
        "\n",
        "# Please fill in these values.\n",
        "project_id = \"test-nils-ai\"  # @param {type:\"string\"}\n",
        "region = \"us-central1\"  # @param {type:\"string\"}\n",
        "search_engine_id = \"test-nils-man\"  # @param {type:\"string\"}\n",
        "llm_model = \"text-bison@001\" # @param {type:\"string\"}\n",
        "\n",
        "# Quick input validations.\n",
        "assert project_id, \"⚠️ Please provide a Google Cloud project ID\"\n",
        "assert region, \"⚠️ Please provide a Google Cloud region\"\n",
        "assert search_engine_id, \"⚠️ Please provide a GenAI App Builder search engine ID\"\n",
        "assert llm_model, \"⚠️ Please provide a pretrained LLM\"\n",
        "\n",
        "# Configure gcloud.\n",
        "!gcloud config set project \"{project_id}\"\n",
        "!gcloud config set storage/parallel_composite_upload_enabled \"True\"\n",
        "\n",
        "print(\"☑️ Done\")"
      ]
    },
    {
      "cell_type": "code",
      "execution_count": 1,
      "metadata": {
        "cellView": "form",
        "id": "loTfn0KniwB2"
      },
      "outputs": [],
      "source": [
        "#@markdown ### (Colab only!) Authenticate your Google Cloud Account\n",
        "\n",
        "import os\n",
        "import sys\n",
        "\n",
        "if \"google.colab\" in sys.modules:\n",
        "    from google.colab import auth as google_auth\n",
        "\n",
        "    google_auth.authenticate_user()"
      ]
    },
    {
      "cell_type": "code",
      "execution_count": null,
      "metadata": {
        "cellView": "form",
        "id": "puBHB9mnguC_"
      },
      "outputs": [],
      "source": [
        "#@markdown ###  Check authenticated user\n",
        "current_user = !gcloud auth list \\\n",
        "  --filter=\"status:ACTIVE\" \\\n",
        "  --format=\"value(account)\" \\\n",
        "  --quiet\n",
        "\n",
        "current_user = current_user[0]\n",
        "print(f\"Current user: {current_user}\")"
      ]
    },
    {
      "cell_type": "code",
      "execution_count": null,
      "metadata": {
        "cellView": "form",
        "id": "0uY8HB-sgxHs"
      },
      "outputs": [],
      "source": [
        "#@markdown ### Enable APIs\n",
        "\n",
        "# Enable APIs\n",
        "my_google_apis = [\n",
        "    \"storage.googleapis.com\",\n",
        "    \"aiplatform.googleapis.com\",\n",
        "    \"discoveryengine.googleapis.com\",\n",
        "]\n",
        "\n",
        "for api in my_google_apis :\n",
        "  print(f\"Enable API: {api}\")\n",
        "  !gcloud services enable \"{api}\" \\\n",
        "    --project=\"{project_id}\" \\\n",
        "    --quiet\n",
        "\n",
        "print(\"☑️ OK\")"
      ]
    },
    {
      "cell_type": "markdown",
      "metadata": {
        "id": "I3tBINK7uUep"
      },
      "source": [
        "## LangChain & Vertex AI"
      ]
    },
    {
      "cell_type": "code",
      "execution_count": null,
      "metadata": {
        "cellView": "form",
        "id": "fe224af7"
      },
      "outputs": [],
      "source": [
        "#@markdown #### Import and print versions\n",
        "\n",
        "import sys\n",
        "print(f\"☑️ Python: {sys.version}\")\n",
        "\n",
        "# Langchain\n",
        "import langchain\n",
        "from langchain.llms import VertexAI\n",
        "from langchain.retrievers import GoogleCloudEnterpriseSearchRetriever\n",
        "\n",
        "# Enterprise Search\n",
        "retriever = GoogleCloudEnterpriseSearchRetriever(\n",
        "    project_id=project_id,\n",
        "    search_engine_id=search_engine_id\n",
        ")\n",
        "\n",
        "print(f\"☑️ LangChain version: {langchain.__version__}\")\n",
        "\n",
        "# Vertex AI\n",
        "# https://python.langchain.com/docs/integrations/llms/google_vertex_ai_palm\n",
        "from google.cloud import aiplatform, aiplatform_v1beta1\n",
        "from langchain.llms import VertexAI\n",
        "\n",
        "aiplatform.init(\n",
        "    project=project_id,\n",
        "    location=region,\n",
        ")\n",
        "\n",
        "# LLM model\n",
        "llm = VertexAI(\n",
        "    model_name=llm_model,\n",
        "    max_output_tokens=256,\n",
        "    temperature=0.1,\n",
        "    top_p=0.8,\n",
        "    top_k=40,\n",
        "    verbose=True,\n",
        ")\n",
        "\n",
        "print(f\"☑️ Vertex AI SDK version: {aiplatform.__version__}\")"
      ]
    },
    {
      "cell_type": "markdown",
      "metadata": {
        "id": "okiuoIZDkw1t"
      },
      "source": [
        "## Query"
      ]
    },
    {
      "cell_type": "code",
      "execution_count": null,
      "metadata": {
        "cellView": "form",
        "id": "b9kaQXf6ktlU"
      },
      "outputs": [],
      "source": [
        "# @markdown Enter search query in a simple English text.\n",
        "user_query = \"What is the default shell and the command to show the uptime?\"  # @param {type:\"string\"}\n",
        "\n",
        "# Quick input validations.\n",
        "assert user_query, \"⚠️ Please input a valid input search text\""
      ]
    },
    {
      "cell_type": "markdown",
      "metadata": {
        "id": "JBf9cgsb-ZvK"
      },
      "source": [
        "### [RetrievalQA chain](https://python.langchain.com/docs/modules/chains/popular/vector_db_qa)\n",
        "\n",
        "This is the simplest document Q&A chain offered by langchain.\n",
        "\n",
        "There are several different chain types available, listed [here](https://docs.langchain.com/docs/components/chains/index_related_chains).\n",
        "* In these examples we use the `stuff` type, which simply inserts all of the document chunks into the prompt.\n",
        "* This has the advantage of only making a single LLM call, which is faster and more cost efficient\n",
        "* However, if we have a large number of search results we run the risk of exceeding the token limit in our prompt, or truncating useful information.\n",
        "* Other chain types such as `map_reduce` and `refine` use an iterative process which makes multiple LLM calls, taking individual document chunks at a time and refining the answer iteratively."
      ]
    },
    {
      "cell_type": "code",
      "execution_count": 16,
      "metadata": {
        "colab": {
          "base_uri": "https://localhost:8080/",
          "height": 35
        },
        "id": "BwAUJxYS-e9g",
        "outputId": "58f3308a-9f66-4165-a413-2d8052b57cc1"
      },
      "outputs": [
        {
          "data": {
            "application/vnd.google.colaboratory.intrinsic+json": {
              "type": "string"
            },
            "text/plain": [
              "'The uptime command can be used to see the uptime.'"
            ]
          },
          "execution_count": 16,
          "metadata": {},
          "output_type": "execute_result"
        }
      ],
      "source": [
        "from langchain.chains import RetrievalQA\n",
        "\n",
        "retrieval_qa = RetrievalQA.from_chain_type(\n",
        "    llm=llm, chain_type=\"stuff\", retriever=retriever\n",
        ")\n",
        "retrieval_qa.run(user_query)"
      ]
    },
    {
      "cell_type": "markdown",
      "metadata": {
        "id": "AUSB8Mn8Dvou"
      },
      "source": [
        "#### Inspecting the process\n",
        "\n",
        "If we add `return_source_documents=True` we can inspect the document chunks that were returned by the retriever.\n",
        "\n",
        "This is helpful for debugging, as these chunks may not always be relevant to the answer, or their relevance might not be obvious."
      ]
    },
    {
      "cell_type": "code",
      "execution_count": 19,
      "metadata": {
        "colab": {
          "base_uri": "https://localhost:8080/"
        },
        "id": "P236bx-KA9TM",
        "outputId": "3971c1bc-73ea-47a6-d97a-3f87725624e7"
      },
      "outputs": [
        {
          "name": "stdout",
          "output_type": "stream",
          "text": [
            "\n",
            "Contex:\n",
            "-------------------------------------------------------------------------------\n",
            "uptime(1) — Linux manual pages\n",
            "\n",
            "Linux manual pages\t Section 1\t  \n",
            "\n",
            "Name\n",
            "\n",
            "uptime — tell how long the system has been running\n",
            "\n",
            "Synopsis\n",
            "\n",
            "uptime [OPTION...] [FILE]\n",
            "\n",
            "DESCRIPTION\n",
            "\n",
            "Print the current time, the length of time the system has been up, the number of users on the system, and the average number of jobs in the run queue over the last 1, 5 and 15 minutes. Processes in an uninterruptible sleep state also contribute to the load average. If FILE is not specified, use /var/run/utmp. /var/log/wtmp as FILE is common.\n",
            "\n",
            "−−help\n",
            "\n",
            "display this help and exit\n",
            "\n",
            "−−version\n",
            "\n",
            "output version information and exit\n",
            "\n",
            "AUTHOR\n",
            "\n",
            "Written by Joseph Arceneaux, David MacKenzie, and Kaveh Ghazi.\n",
            "\n",
            "REPORTING BUGS\n",
            "\n",
            "GNU coreutils online help: <http://www.gnu.org/software/coreutils/>\n",
            "\n",
            "Report uptime translation bugs to <http://translationproject.org/team/>\n",
            "\n",
            "SEE ALSO\n",
            "\n",
            "Full documentation at: <http://www.gnu.org/software/coreutils/uptime>\n",
            "\n",
            "or available locally via: info '(coreutils) uptime invocation'\n",
            "\n",
            "COPYRIGHT\n",
            "\n",
            "Copyright © 2015 Free Software Foundation, Inc. License GPLv3+: GNU GPL version 3 or later <http://gnu.org/licenses/gpl.html>.\n",
            "\n",
            "This is free software: you are free to change and redistribute it. There is NO WARRANTY, to the extent permitted by law.\n",
            "-------------------------------------------------------------------------------\n",
            "sysinfo(2) — Linux manual pages\n",
            "\n",
            "Linux manual pages\t Section 2\t  \n",
            "\n",
            "Name\n",
            "\n",
            "sysinfo — returns information on overall system statistics\n",
            "\n",
            "Synopsis\n",
            "\n",
            "#include <sys/sysinfo.h>\n",
            "\n",
            "int sysinfo(\t struct sysinfo *info);\n",
            "\n",
            " \n",
            "\n",
            "DESCRIPTION\n",
            "\n",
            "Until Linux 2.3.16, sysinfo() used to return information in the following structure:\n",
            "\n",
            "struct\t sysinfo {\n",
            " \t long\t  \t uptime;\n",
            "\n",
            "/* Seconds since boot */\n",
            "\n",
            " \t unsigned long\t  \t loads[3];\n",
            "\n",
            "/* 1, 5, and 15 minute load averages */\n",
            "\n",
            " \t unsigned long\t  \t totalram;\n",
            "\n",
            "/* Total usable main memory size */\n",
            "\n",
            " \t unsigned long\t  \t freeram;\n",
            "\n",
            "/* Available memory size */\n",
            "\n",
            " \t unsigned long\t  \t sharedram;\n",
            "\n",
            "/* Amount of shared memory */\n",
            "\n",
            " \t unsigned long\t  \t bufferram;\n",
            "\n",
            "/* Memory used by buffers */\n",
            "\n",
            " \t unsigned long\t  \t totalswap;\n",
            "\n",
            "/* Total swap space size */\n",
            "\n",
            " \t unsigned long\t  \t freeswap;\n",
            "\n",
            "/* swap space still available */\n",
            "\n",
            " \t unsigned short\t  \t procs;\n",
            "\n",
            "/* Number of current processes */\n",
            "\n",
            " \t char\t  \t _f[22];\n",
            "\n",
            "/* Pads structure to 64 bytes */\n",
            "\n",
            "};\n",
            "\n",
            "and the sizes were given in bytes.\n",
            "\n",
            "Since Linux 2.3.23 (i386), 2.3.48 (all architectures) the structure is:\n",
            "\n",
            "struct sysinfo { long uptime; /* Seconds since boot */ unsigned long loads[3]; /* 1, 5, and 15 minute load averages */ unsigned long totalram; /* Total usable main memory size */ unsigned long freeram; /* Available memory size */ unsigned long sharedram; /* Amount of shared memory */ unsigned long bufferram; /* Memory used by buffers */ unsigned long totalswap; /* Total swap space size */ unsigned long freeswap; /* swap space still available */ unsigned short procs; /* Number of current processes */ unsigned long totalhigh; /* Total high memory size */ unsigned long freehigh; /* Available high memory size */ unsigned int mem_unit; /* Memory unit size in bytes */ char _f[20−2*sizeof(long)−sizeof(int)]; /* Padding to 64 bytes */ };\n",
            "\n",
            "and the sizes are given as multiples of mem_unit bytes.\n",
            "\n",
            "sysinfo() provides a simple way of getting overall system statistics. This is more portable than reading /dev/kmem.\n",
            "\n",
            "RETURN VALUE\n",
            "\n",
            "On success, zero is returned. On error, −1 is returned, and errno is set appropriately.\n",
            "\n",
            "ERRORS\n",
            "\n",
            "EFAULT\n",
            "\n",
            "pointer to struct sysinfo is invalid\n",
            "\n",
            "VERSIONS\n",
            "\n",
            "The Linux kernel has a sysinfo() system call since 0.98.pl6.\n",
            "\n",
            "CONFORMING TO\n",
            "-------------------------------------------------------------------------------\n",
            "#include <stdio.h> #include <stdlib.h> #include <errno.h> #include <linux/unistd.h> /* for _syscallX macros/related stuff */ #include <linux/kernel.h> /* for struct sysinfo */ _syscall1(int, sysinfo, struct sysinfo *, info); /* Note: if you copy directly from the nroff source, remember to REMOVE the extra backslashes in the printf statement. */ int main(void) { struct sysinfo s_info; int error; error = sysinfo(&s_info); printf(\"code error = %d\\n\", error); printf(\"Uptime = %lds\\nLoad: 1 min %lu / 5 min %lu / 15 min %lu\\n\" \"RAM: total %lu / free %lu / shared %lu\\n\" \"Memory in buffers = %lu\\nSwap: total %lu / free %lu\\n\" \"Number of processes = %d\\n\", s_info.uptime, s_info.loads[0], s_info.loads[1], s_info.loads[2], s_info.totalram, s_info.freeram, s_info.sharedram, s_info.bufferram, s_info.totalswap, s_info.freeswap, s_info.procs); exit(EXIT_SUCCESS); }\n",
            "\n",
            "Sample output\n",
            "\n",
            "code error = 0 uptime = 502034s Load: 1 min 13376 / 5 min 5504 / 15 min 1152 RAM: total 15343616 / free 827392 / shared 8237056 Memory in buffers = 5066752 Swap: total 27881472 / free 24698880 Number of processes = 40\n",
            "\n",
            "SEE ALSO\n",
            "\n",
            "intro(2), syscall(2), errno(3)\n",
            "\n",
            "COLOPHON\n",
            "\n",
            "This page is part of release 3.72 of the Linux man-pages project. A description of the project, information about reporting bugs, and the latest version of this page, can be found at http://www.kernel.org/doc/man−pages/.\n",
            "\n",
            "  Copyright (c) 1993 Michael Haardt (michael\n",
            "\n",
            "(@)\n",
            "-------------------------------------------------------------------------------\n",
            "getloadavg(3) — Linux manual pages\n",
            "\n",
            "Linux manual pages\t Section 3\t  \n",
            "\n",
            "Name\n",
            "\n",
            "getloadavg — get system load averages\n",
            "\n",
            "Synopsis\n",
            "\n",
            "#define _BSD_SOURCE /* See feature_test_macros(7) */ #include <stdlib.h>\n",
            "\n",
            "int getloadavg(\t double loadavg[],\n",
            " \t int nelem);\n",
            "\n",
            " \n",
            "\n",
            "DESCRIPTION\n",
            "\n",
            "The getloadavg() function returns the number of processes in the system run queue averaged over various periods of time. Up to nelem samples are retrieved and assigned to successive elements of loadavg[]. The system imposes a maximum of 3 samples, representing averages over the last 1, 5, and 15 minutes, respectively.\n",
            "\n",
            "RETURN VALUE\n",
            "\n",
            "If the load average was unobtainable, −1 is returned; otherwise, the number of samples actually retrieved is returned.\n",
            "\n",
            "VERSIONS\n",
            "\n",
            "This function is available in glibc since version 2.2.\n",
            "\n",
            "ATTRIBUTES\n",
            "\n",
            "For an explanation of the terms used in this section, see attributes(7).\n",
            "\n",
            "Interface\t Attribute\t Value\n",
            "getloadavg()\t Thread safety\t MT-Safe\n",
            "\n",
            "CONFORMING TO\n",
            "\n",
            "Not in POSIX.1. Present on the BSDs and Solaris.\n",
            "\n",
            "SEE ALSO\n",
            "\n",
            "uptime(1), proc(5)\n",
            "\n",
            "COLOPHON\n",
            "\n",
            "This page is part of release 4.04 of the Linux man-pages project. A description of the project, information about reporting bugs, and the latest version of this page, can be found at http://www.kernel.org/doc/man−pages/.\n",
            "-------------------------------------------------------------------------------\n",
            "rmdir(1) runcon(1) runuser(1) script(1) scriptreplay(1) seq(1) setpriv(1) setsid(1) setterm(1) sha1sum(1) sha224sum(1) sha256sum(1) sha384sum(1) sha512sum(1) shred(1) shuf(1) sleep(1) sort(1) split(1) stat(1) stdbuf(1) stty(1) su(1) sum(1) sync(1) tac(1) tail(1) tailf(1) taskset(1) tee(1) test(1) timeout(1) touch(1) tr(1) true(1) truncate(1) tsort(1) tty(1) ul(1) uname(1) unexpand(1) uniq(1) unlink(1) unshare(1) uptime(1) users(1) utmpdump(1) uuidgen(1) vdir(1) wall(1) wc(1) whereis(1) who(1) whoami(1) write(1) yes(1)\n",
            "\n",
            "Prev \t \t Next\n",
            "Manual page section index \tHome\t Section 2\n",
            "\n",
            "Result:\n",
            "===============================================================================\n",
            "The uptime command can be used to see the uptime.\n",
            "===============================================================================\n"
          ]
        }
      ],
      "source": [
        "retrieval_qa = RetrievalQA.from_chain_type(\n",
        "    llm=llm, chain_type=\"stuff\", retriever=retriever, return_source_documents=True\n",
        ")\n",
        "\n",
        "results = retrieval_qa({\"query\": user_query})\n",
        "\n",
        "print(\"\\nContex:\")\n",
        "for doc in results[\"source_documents\"]:\n",
        "    print(\"-\" * 79)\n",
        "    print(doc.page_content)\n",
        "\n",
        "print(\"\\nResult:\")\n",
        "print(\"=\" * 79)\n",
        "print(results[\"result\"])\n",
        "print(\"=\" * 79)"
      ]
    },
    {
      "cell_type": "markdown",
      "metadata": {
        "id": "LxuDV3sdFhUk"
      },
      "source": [
        "### RetrievalQAWithSourcesChain\n",
        "\n",
        "This variant returns an answer to the question alongside the source documents that were used to generate the answer."
      ]
    },
    {
      "cell_type": "code",
      "execution_count": 20,
      "metadata": {
        "colab": {
          "base_uri": "https://localhost:8080/"
        },
        "id": "LlhQ-1JGFfMI",
        "outputId": "f87cc4ed-3c90-4ca6-efd3-1db870b7ff10"
      },
      "outputs": [
        {
          "data": {
            "text/plain": [
              "{'answer': 'The default shell is /bin/bash.\\n', 'sources': '1-pl'}"
            ]
          },
          "execution_count": 20,
          "metadata": {},
          "output_type": "execute_result"
        }
      ],
      "source": [
        "from langchain.chains import RetrievalQAWithSourcesChain\n",
        "\n",
        "retrieval_qa_with_sources = RetrievalQAWithSourcesChain.from_chain_type(\n",
        "    llm=llm, chain_type=\"stuff\", retriever=retriever\n",
        ")\n",
        "\n",
        "retrieval_qa_with_sources({\"question\": user_query}, return_only_outputs=True)"
      ]
    },
    {
      "cell_type": "markdown",
      "metadata": {
        "id": "NaxAUt9FhXR6"
      },
      "source": [
        "###  [ConversationalRetrievalChain](https://python.langchain.com/docs/modules/chains/popular/chat_vector_db)\n",
        "\n",
        "`ConversationalRetrievalChain` remembers and uses previous questions so you can have a chat-like discovery process.\n",
        "\n",
        "To use this chain we must provide a memory class to store and pass the previous messages to the LLM as context. Here we use the `ConversationBufferMemory` class that comes with langchain.\n"
      ]
    },
    {
      "cell_type": "code",
      "execution_count": 21,
      "metadata": {
        "colab": {
          "base_uri": "https://localhost:8080/"
        },
        "id": "mRdu6hK6F6UD",
        "outputId": "07fc2704-baca-4d83-d18b-f3bf7d6859d3"
      },
      "outputs": [
        {
          "name": "stdout",
          "output_type": "stream",
          "text": [
            "The default shell is /bin/sh and the command to show the uptime is uptime.\n"
          ]
        }
      ],
      "source": [
        "from langchain.chains import ConversationalRetrievalChain\n",
        "from langchain.memory import ConversationBufferMemory\n",
        "\n",
        "memory = ConversationBufferMemory(memory_key=\"chat_history\", return_messages=True)\n",
        "conversational_retrieval = ConversationalRetrievalChain.from_llm(\n",
        "    llm=llm, retriever=retriever, memory=memory\n",
        ")\n",
        "\n",
        "result = conversational_retrieval({\"question\": user_query})\n",
        "print(result[\"answer\"])"
      ]
    },
    {
      "cell_type": "code",
      "execution_count": 22,
      "metadata": {
        "colab": {
          "base_uri": "https://localhost:8080/"
        },
        "id": "ff9b72cd-da78-4690-9919-b74b2b460c44",
        "outputId": "b4f1918b-2cde-46b0-a6a5-045b0f14ad75"
      },
      "outputs": [
        {
          "name": "stdout",
          "output_type": "stream",
          "text": [
            "The chsh manual page states that \"chsh will accept the full pathname of any executable file on the system. However, it will issue a warning if the shell is not listed in the /etc/shells file. On the other hand, it can also be configured such that it will only accept shells listed in this file, unless you are root.\"\n"
          ]
        }
      ],
      "source": [
        "new_query = \"What about other shells?\"\n",
        "result = conversational_retrieval({\"question\": new_query})\n",
        "print(result[\"answer\"])"
      ]
    },
    {
      "cell_type": "code",
      "execution_count": 23,
      "metadata": {
        "colab": {
          "base_uri": "https://localhost:8080/"
        },
        "id": "o44PdiaGiM7m",
        "outputId": "76fdc5b5-7758-4c32-8ecc-66d5d922a4f7"
      },
      "outputs": [
        {
          "name": "stdout",
          "output_type": "stream",
          "text": [
            "Yes, Bash is a shell. It is a Bourne-again shell, which is a free software shell and the default shell for many Linux distributions.\n"
          ]
        }
      ],
      "source": [
        "new_query = \"Is there a shell called Bash?\"\n",
        "\n",
        "result = conversational_retrieval({\"question\": new_query})\n",
        "print(result[\"answer\"])"
      ]
    },
    {
      "cell_type": "markdown",
      "metadata": {
        "id": "1eeba1fe-0a4d-4651-a4b1-b91dfc1254bc"
      },
      "source": [
        "### Advanced: Modifying the default langchain prompt\n",
        "In all of the previous examples we used the default prompt that comes with langchain.\n",
        "\n",
        "We can inspect our chain object to discover the wording of the prompt template being used.\n",
        "\n",
        "We may find that this is not suitable for our purposes, and we may wish to customise the prompt, for example to present our results in a different format, or to specify additional constraints."
      ]
    },
    {
      "cell_type": "code",
      "execution_count": 24,
      "metadata": {
        "colab": {
          "base_uri": "https://localhost:8080/"
        },
        "id": "c1004f16-ed9d-4170-974e-6dd7528fe36b",
        "outputId": "003c232b-d349-4964-b212-bd74d5983bfb"
      },
      "outputs": [
        {
          "name": "stdout",
          "output_type": "stream",
          "text": [
            "Use the following pieces of context to answer the question at the end. If you don't know the answer, just say that you don't know, don't try to make up an answer.\n",
            "\n",
            "{context}\n",
            "\n",
            "Question: {question}\n",
            "Helpful Answer:\n"
          ]
        }
      ],
      "source": [
        "qa = RetrievalQA.from_chain_type(\n",
        "    llm=llm, chain_type=\"stuff\", retriever=retriever, return_source_documents=True\n",
        ")\n",
        "\n",
        "print(qa.combine_documents_chain.llm_chain.prompt.template)"
      ]
    },
    {
      "cell_type": "markdown",
      "metadata": {
        "id": "b30e2c43-b57b-43f1-9679-41c4a2a9e8ba"
      },
      "source": [
        "Let's modify the prompt to return an answer in a single word (useful for yes/no questions). We will constrain the LLM to say 'I don't know' if it cannot answer.\n",
        "\n",
        "We create a new `prompt_template` and pass this in using the `template` argument."
      ]
    },
    {
      "cell_type": "code",
      "execution_count": 25,
      "metadata": {
        "id": "0ceca59d-f75a-4467-9d58-a15b3241ac22"
      },
      "outputs": [],
      "source": [
        "from langchain.prompts import PromptTemplate\n",
        "\n",
        "prompt_template = \"\"\"Use the context to answer the question at the end.\n",
        "You must always use the context and context only to answer the question. Never try to make up an answer. If the context is empty or you do not know the answer, just say \"I don't know\".\n",
        "The answer should consist of only 1 word and not a sentence.\n",
        "\n",
        "Context: {context}\n",
        "\n",
        "Question: {question}\n",
        "Helpful Answer:\n",
        "\"\"\"\n",
        "prompt = PromptTemplate(\n",
        "    template=prompt_template, input_variables=[\"context\", \"question\"]\n",
        ")\n",
        "qa_chain = RetrievalQA.from_llm(\n",
        "    llm=llm, prompt=prompt, retriever=retriever, return_source_documents=True\n",
        ")"
      ]
    },
    {
      "cell_type": "code",
      "execution_count": 26,
      "metadata": {
        "colab": {
          "base_uri": "https://localhost:8080/"
        },
        "id": "f58539f7bec3",
        "outputId": "ec482ea4-14bf-4a0a-f0c0-0caf5858d8b8"
      },
      "outputs": [
        {
          "name": "stdout",
          "output_type": "stream",
          "text": [
            "Use the context to answer the question at the end.\n",
            "You must always use the context and context only to answer the question. Never try to make up an answer. If the context is empty or you do not know the answer, just say \"I don't know\".\n",
            "The answer should consist of only 1 word and not a sentence.\n",
            "\n",
            "Context: {context}\n",
            "\n",
            "Question: {question}\n",
            "Helpful Answer:\n",
            "\n"
          ]
        }
      ],
      "source": [
        "print(qa_chain.combine_documents_chain.llm_chain.prompt.template)"
      ]
    },
    {
      "cell_type": "code",
      "execution_count": 27,
      "metadata": {
        "colab": {
          "base_uri": "https://localhost:8080/"
        },
        "id": "287d9859-453d-474a-a449-15252a14aa63",
        "outputId": "e1ed492a-3e5a-43b7-cc3a-257da7a95952"
      },
      "outputs": [
        {
          "name": "stdout",
          "output_type": "stream",
          "text": [
            "\n",
            "Contex:\n",
            "-------------------------------------------------------------------------------\n",
            "uptime(1) — Linux manual pages\n",
            "\n",
            "Linux manual pages\t Section 1\t  \n",
            "\n",
            "Name\n",
            "\n",
            "uptime — tell how long the system has been running\n",
            "\n",
            "Synopsis\n",
            "\n",
            "uptime [OPTION...] [FILE]\n",
            "\n",
            "DESCRIPTION\n",
            "\n",
            "Print the current time, the length of time the system has been up, the number of users on the system, and the average number of jobs in the run queue over the last 1, 5 and 15 minutes. Processes in an uninterruptible sleep state also contribute to the load average. If FILE is not specified, use /var/run/utmp. /var/log/wtmp as FILE is common.\n",
            "\n",
            "−−help\n",
            "\n",
            "display this help and exit\n",
            "\n",
            "−−version\n",
            "\n",
            "output version information and exit\n",
            "\n",
            "AUTHOR\n",
            "\n",
            "Written by Joseph Arceneaux, David MacKenzie, and Kaveh Ghazi.\n",
            "\n",
            "REPORTING BUGS\n",
            "\n",
            "GNU coreutils online help: <http://www.gnu.org/software/coreutils/>\n",
            "\n",
            "Report uptime translation bugs to <http://translationproject.org/team/>\n",
            "\n",
            "SEE ALSO\n",
            "\n",
            "Full documentation at: <http://www.gnu.org/software/coreutils/uptime>\n",
            "\n",
            "or available locally via: info '(coreutils) uptime invocation'\n",
            "\n",
            "COPYRIGHT\n",
            "\n",
            "Copyright © 2015 Free Software Foundation, Inc. License GPLv3+: GNU GPL version 3 or later <http://gnu.org/licenses/gpl.html>.\n",
            "\n",
            "This is free software: you are free to change and redistribute it. There is NO WARRANTY, to the extent permitted by law.\n",
            "-------------------------------------------------------------------------------\n",
            "As <Enter> except that i becomes the new page size.\n",
            "\n",
            ". or ^L\n",
            "\n",
            "Redraw the screen.\n",
            "\n",
            "$\n",
            "\n",
            "Advance to the last line of the input file.\n",
            "\n",
            "i/ pattern /\n",
            "\n",
            "Search forward until the first or the i-th occurrence of the Basic Regular Expression pattern is found. The search starts after the current page and stops at the end of the file. No wrap-around is performed. i must be a positive number.\n",
            "\n",
            "i?pattern? or i^pattern^\n",
            "\n",
            "Search backward until the first or the i-th occurrence of the Basic Regular Expression pattern is found. The search starts before the current page and stops at the beginning of the file. No wrap-around is performed. i must be a positive number.\n",
            "\n",
            "The search commands accept an added letter. If t is given, the line containing the pattern is displayed at the top of the screen, which is the default. m selects the middle and b the bottom of the screen. The selected position is used in following searches, too.\n",
            "\n",
            "in\n",
            "\n",
            "Advance to the next file or i files forward.\n",
            "\n",
            "ip\n",
            "\n",
            "Reread the previous file or i files backward.\n",
            "\n",
            "sfilename\n",
            "\n",
            "Save the current file to the given filename.\n",
            "\n",
            "h\n",
            "\n",
            "Display a command summary.\n",
            "\n",
            "!command\n",
            "\n",
            "Execute command using the shell.\n",
            "\n",
            "q or Q\n",
            "\n",
            "Quit.\n",
            "\n",
            "If the user presses the interrupt or quit key while pg reads from the input file or writes on the terminal, pg will immediately display the prompt. In all other situations these keys will terminate pg.\n",
            "\n",
            "ENVIRONMENT VARIABLES\n",
            "\n",
            "The following environment variables affect the behavior of pg:\n",
            "\n",
            "COLUMNS\n",
            "\n",
            "Overrides the system-supplied number of columns if set.\n",
            "\n",
            "LANG, LC_ALL, LC_COLLATE, LC_CTYPE, LC_MESSAGES\n",
            "\n",
            "See locale(7).\n",
            "\n",
            "LINES\n",
            "\n",
            "Overrides the system-supplied number of lines if set.\n",
            "\n",
            "SHELL\n",
            "\n",
            "Used by the ! command.\n",
            "\n",
            "TERM\n",
            "\n",
            "Determines the terminal type.\n",
            "\n",
            "SEE ALSO\n",
            "\n",
            "cat(1), more(1), sh(1), terminfo(5), locale(7), regex(7), term(7)\n",
            "\n",
            "NOTES\n",
            "\n",
            "pg expects the terminal tabulators to be set every eight positions.\n",
            "\n",
            "Files that include NUL characters cannot be displayed by pg.\n",
            "\n",
            "AVAILABILITY\n",
            "\n",
            "The pg command is part of the util-linux package and is available from ftp://ftp.kernel.org/pub/linux/utils/util-linux/.\n",
            "\n",
            "  Copyright 2001 Gunnar Ritter\n",
            "-------------------------------------------------------------------------------\n",
            "su(1) — Linux manual pages\n",
            "\n",
            "Linux manual pages\t Section 1\t  \n",
            "\n",
            "Name\n",
            "\n",
            "su — run a command with substitute user and group ID\n",
            "\n",
            "Synopsis\n",
            "\n",
            "su [options] [−] [ user [ argument... ] ]\n",
            "\n",
            "DESCRIPTION\n",
            "\n",
            "su allows to run commands with a substitute user and group ID.\n",
            "\n",
            "When called without arguments, su defaults to running an interactive shell as root.\n",
            "\n",
            "For backward compatibility, su defaults to not change the current directory and to only set the environment variables HOME and SHELL (plus USER and LOGNAME if the target user is not root). It is recommended to always use the −−login option (instead of its shortcut −) to avoid side effects caused by mixing environments.\n",
            "\n",
            "This version of su uses PAM for authentication, account and session management. Some configuration options found in other su implementations, such as support for a wheel group, have to be configured via PAM.\n",
            "\n",
            "OPTIONS\n",
            "\n",
            "−c, −−command=command\n",
            "\n",
            "Pass command to the shell with the −c option.\n",
            "\n",
            "−f, −−fast\n",
            "\n",
            "Pass −f to the shell, which may or may not be useful, depending on the shell.\n",
            "\n",
            "−g, −−group=group\n",
            "\n",
            "Specify the primary group. This option is available to the root user only.\n",
            "\n",
            "−G, −−supp−group=group\n",
            "\n",
            "Specify a supplemental group. This option is available to the root user only.\n",
            "\n",
            "−, −l, −−login\n",
            "\n",
            "Start the shell as a login shell with an environment similar to a real login:\n",
            "\n",
            "o\n",
            "\n",
            "clears all the environment variables except TERM\n",
            "\n",
            "o\n",
            "\n",
            "initializes the environment variables HOME, SHELL, USER, LOGNAME, and PATH\n",
            "\n",
            "o\n",
            "\n",
            "changes to the target user's home directory\n",
            "\n",
            "o\n",
            "\n",
            "sets argv[0] of the shell to '−' in order to make the shell a login shell\n",
            "\n",
            "−m, −p, −−preserve−environment\n",
            "\n",
            "Preserve the entire environment, i.e. it does not set HOME, SHELL, USER nor LOGNAME. This option is ignored if the option −−login is specified.\n",
            "\n",
            "−s, −−shell=shell\n",
            "\n",
            "Run the specified shell instead of the default. The shell to run is selected according to the following rules, in order:\n",
            "\n",
            "o\n",
            "\n",
            "the shell specified with −−shell\n",
            "\n",
            "o\n",
            "\n",
            "the shell specified in the environment variable SHELL, if the −−preserve−environment option is used\n",
            "\n",
            "o\n",
            "\n",
            "the shell listed in the passwd entry of the target user\n",
            "\n",
            "o\n",
            "\n",
            "/bin/sh\n",
            "\n",
            "If the target user has a restricted shell (i.e. not listed in /etc/shells), the −−shell option and the SHELL environment variables are ignored unless the calling user is root.\n",
            "-------------------------------------------------------------------------------\n",
            "If the ENDCODE is defined in the global section of the setup file, it cannot be undefined in a terminal-specific section of the file. This means any NORMAL definition will have no effect. A different ENDCODE can, however, be specified, which would have the same effect.\n",
            "\n",
            "Escape sequences\n",
            "\n",
            "To specify control- or blank characters in the color sequences or filename extensions, either C-style \\-escaped notation or stty−style ^-notation can be used. The C-style notation includes the following characters:\n",
            "\n",
            "\\a\t Bell (ASCII 7)\n",
            "\\b\t Backspace (ASCII 8)\n",
            "\\e\t Escape (ASCII 27)\n",
            "\\f\t Form feed (ASCII 12)\n",
            "\\n\t Newline (ASCII 10)\n",
            "\\r\t Carriage Return (ASCII 13)\n",
            "\\t\t Tab (ASCII 9)\n",
            "\\v\t Vertical Tab (ASCII 11)\n",
            "\\?\t Delete (ASCII 127)\n",
            "\\nnn\t Any character (octal notation)\n",
            "\\xnnn\t Any character (hexadecimal notation)\n",
            "\\_\t Space\n",
            "\\\\\t Backslash (\\)\n",
            "\\^\t Caret (^)\n",
            "\\#\t Hash mark (#)\n",
            "\n",
            "Note that escapes are necessary to enter a space, backslash, caret, or any control character anywhere in the string, as well as a hash mark as the first character.\n",
            "\n",
            "FILES\n",
            "\n",
            "/etc/DIR_COLORS\n",
            "\n",
            "System-wide configuration file.\n",
            "\n",
            "~/.dir_colors\n",
            "\n",
            "Per-user configuration file.\n",
            "\n",
            "This page describes the dir_colors file format as used in the fileutils-4.1 package; other versions may differ slightly.\n",
            "\n",
            "NOTES\n",
            "\n",
            "The default LEFTCODE and RIGHTCODE definitions, which are used by ISO 6429 terminals are:\n",
            "\n",
            "LEFTCODE\t \\e[\n",
            "RIGHTCODE\t m\n",
            "\n",
            "The default ENDCODE is undefined.\n",
            "\n",
            "SEE ALSO\n",
            "\n",
            "dircolors(1), ls(1), stty(1), xterm(1)\n",
            "\n",
            "COLOPHON\n",
            "\n",
            "This page is part of release 3.72 of the Linux man-pages project. A description of the project, information about reporting bugs, and the latest version of this page, can be found at http://www.kernel.org/doc/man−pages/.\n",
            "\n",
            "  manpage for /etc/dir_colors, config file for dircolors(1) extracted from color-ls 3.12.0.3 dircolors(1) manpage %%%LICENSE_START(LDPv1) This file may be copied under the conditions described in the LDP GENERAL PUBLIC LICENSE, Version 1, September 1998 that should have been distributed together with this file. %%%LICENSE_END Modified Sat Dec 22 22:25:33 2001 by Martin Schulze <joey\n",
            "\n",
            "(@)\n",
            "\n",
            "infodrom.org>\n",
            "-------------------------------------------------------------------------------\n",
            "If the target user has a restricted shell (i.e. not listed in /etc/shells) the −−shell option and the SHELL environment variables are ignored unless the calling user is root.\n",
            "\n",
            "−−session−command=command\n",
            "\n",
            "Same as −c , but do not create a new session. (Discouraged.)\n",
            "\n",
            "−V, −−version\n",
            "\n",
            "Display version information and exit.\n",
            "\n",
            "−h, −−help\n",
            "\n",
            "Display help text and exit.\n",
            "\n",
            "CONFIG FILES\n",
            "\n",
            "runuser reads the /etc/default/runuser and /etc/login.defs configuration files. The following configuration items are relevant for runuser:\n",
            "\n",
            "ENV_PATH (string)\n",
            "\n",
            "Defines the PATH environment variable for a regular user. The default value is /usr/local/bin:/bin:/usr/bin.\n",
            "\n",
            "ENV_ROOTPATH (string)\n",
            "\n",
            "ENV_SUPATH (string)\n",
            "\n",
            "Defines the PATH environment variable for root. The default value is /usr/local/sbin:/usr/local/bin:/sbin:/bin:/usr/sbin:/usr/bin.\n",
            "\n",
            "ALWAYS_SET_PATH (boolean)\n",
            "\n",
            "If set to yes and −−login and −−preserve−environment were not specified runuser initializes PATH.\n",
            "\n",
            "EXIT STATUS\n",
            "\n",
            "runuser normally returns the exit status of the command it executed. If the command was killed by a signal, runuser returns the number of the signal plus 128.\n",
            "\n",
            "Exit status generated by runuser itself:\n",
            "\n",
            "1\n",
            "\n",
            "Generic error before executing the requested command\n",
            "\n",
            "126\n",
            "\n",
            "The requested command could not be executed\n",
            "\n",
            "127\n",
            "\n",
            "The requested command was not found\n",
            "\n",
            "FILES\n",
            "\n",
            "/etc/pam.d/runuser\n",
            "\n",
            "default PAM configuration file\n",
            "\n",
            "/etc/pam.d/runuser-l\n",
            "\n",
            "PAM configuration file if −−login is specified\n",
            "\n",
            "/etc/default/runuser\n",
            "\n",
            "runuser specific logindef config file\n",
            "\n",
            "/etc/login.defs\n",
            "\n",
            "global logindef config file\n",
            "\n",
            "SEE ALSO\n",
            "\n",
            "pam(8), shells(5), login.defs(5), su(1)\n",
            "\n",
            "HISTORY\n",
            "\n",
            "This runuser command was derived from coreutils' su, which was based on an implementation by David MacKenzie, and the Fedora runuser command by Dan Walsh.\n",
            "\n",
            "AVAILABILITY\n",
            "\n",
            "The runuser command is part of the util-linux package and is available from Linux Kernel Archive\n",
            "\n",
            "Result:\n",
            "===============================================================================\n",
            "/bin/sh\n",
            "===============================================================================\n"
          ]
        }
      ],
      "source": [
        "results = qa_chain({\"query\": user_query})\n",
        "\n",
        "print(\"\\nContex:\")\n",
        "for doc in results[\"source_documents\"]:\n",
        "    print(\"-\" * 79)\n",
        "    print(doc.page_content)\n",
        "\n",
        "print(\"\\nResult:\")\n",
        "print(\"=\" * 79)\n",
        "print(results[\"result\"])\n",
        "print(\"=\" * 79)"
      ]
    }
  ],
  "metadata": {
    "colab": {
      "provenance": [],
      "toc_visible": true
    },
    "kernelspec": {
      "display_name": "Python 3",
      "name": "python3"
    }
  },
  "nbformat": 4,
  "nbformat_minor": 0
}
